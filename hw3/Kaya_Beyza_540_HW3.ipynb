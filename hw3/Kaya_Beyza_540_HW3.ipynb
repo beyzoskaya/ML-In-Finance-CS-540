{
 "cells": [
  {
   "cell_type": "markdown",
   "metadata": {},
   "source": [
    "# CS 440/540 Machine Learning in Finance: Homework 3"
   ]
  },
  {
   "cell_type": "markdown",
   "metadata": {},
   "source": [
    "Download data files from LMS. Code/Explain your solution over this `IPython` notebook at required cells, and complete locally.\n",
    "\n",
    "To submit your assignment, in LMS, upload your solution to LMS as a single notebook with following file name format:\n",
    "\n",
    "`lastName_firstName_CourseNumber_HW3.ipynb`\n",
    "\n",
    "where `CourseNumber` is the course in which you're enrolled (CS 440 or CS 540).\n",
    "\n",
    "Problems on homework assignments are equally weighted.\n",
    "\n",
    "Any type of plagiarism will not be tolerated. Your submitted codes will be compared with other submissions and also the codes available on internet and violations will have a penalty of -100 points. (In case of copying from\n",
    "another student both parties will get -100)"
   ]
  },
  {
   "cell_type": "markdown",
   "metadata": {},
   "source": [
    "Import all libraries here"
   ]
  },
  {
   "cell_type": "code",
   "execution_count": 2,
   "metadata": {},
   "outputs": [],
   "source": [
    "#Import libraries before starting\n",
    "import pandas as pd\n",
    "import numpy as np"
   ]
  },
  {
   "cell_type": "markdown",
   "metadata": {},
   "source": [
    "## Problem 1: Cryptocurrency Trading via Multivariate AR (VAR)\n",
    "\n",
    "In this question, you model the price dynamics of multiple cryptocurrencies jointly via multivariate AR (Vector AR). You will focus only on BTC, ETH, LTC, SOL, AVAX, BNB. You can download the historical cryptocurrency price data from www.coinmarketcap.com or Yahoo Finance. Since cryptocurrency markets are 7/24, you will be using the latest data in UTC time as the close price.\n",
    "\n",
    "You will predict these cryptocurrency prices by VAR. You do not need to implement ARMA from scratch; you can use the existing implementation in statsmodels. Our training period 2021-2022 and test period will be 2022-2023. Once predicted after training, our portfolio will be allocated to the top two cryptocurrencies with the highest return estimation.\n",
    "\n",
    "You will report the best model in terms of Information Ratio by considering the parameters p,q in ranges [0, 1, 5]."
   ]
  },
  {
   "cell_type": "code",
   "execution_count": 194,
   "metadata": {},
   "outputs": [
    {
     "name": "stderr",
     "output_type": "stream",
     "text": [
      "[*********************100%***********************]  1 of 1 completed"
     ]
    },
    {
     "name": "stdout",
     "output_type": "stream",
     "text": [
      "Downloading data for BTC-USD...\n"
     ]
    },
    {
     "name": "stderr",
     "output_type": "stream",
     "text": [
      "\n",
      "[*********************100%***********************]  1 of 1 completed\n",
      "[*********************100%***********************]  1 of 1 completed\n",
      "[*********************100%***********************]  1 of 1 completed\n",
      "[*********************100%***********************]  1 of 1 completed\n"
     ]
    },
    {
     "name": "stdout",
     "output_type": "stream",
     "text": [
      "Data for BTC-USD saved as BTC_train.csv and BTC_test.csv!\n",
      "Downloading data for ETH-USD...\n",
      "Data for ETH-USD saved as ETH_train.csv and ETH_test.csv!\n",
      "Downloading data for LTC-USD...\n"
     ]
    },
    {
     "name": "stderr",
     "output_type": "stream",
     "text": [
      "[*********************100%***********************]  1 of 1 completed\n",
      "[*********************100%***********************]  1 of 1 completed\n",
      "[*********************100%***********************]  1 of 1 completed\n",
      "[*********************100%***********************]  1 of 1 completed\n"
     ]
    },
    {
     "name": "stdout",
     "output_type": "stream",
     "text": [
      "Data for LTC-USD saved as LTC_train.csv and LTC_test.csv!\n",
      "Downloading data for SOL-USD...\n",
      "Data for SOL-USD saved as SOL_train.csv and SOL_test.csv!\n",
      "Downloading data for AVAX-USD...\n"
     ]
    },
    {
     "name": "stderr",
     "output_type": "stream",
     "text": [
      "[*********************100%***********************]  1 of 1 completed\n",
      "[*********************100%***********************]  1 of 1 completed\n",
      "[*********************100%***********************]  1 of 1 completed"
     ]
    },
    {
     "name": "stdout",
     "output_type": "stream",
     "text": [
      "Data for AVAX-USD saved as AVAX_train.csv and AVAX_test.csv!\n",
      "Downloading data for BNB-USD...\n",
      "Data for BNB-USD saved as BNB_train.csv and BNB_test.csv!\n",
      "All data downloaded successfully!\n"
     ]
    },
    {
     "name": "stderr",
     "output_type": "stream",
     "text": [
      "\n"
     ]
    }
   ],
   "source": [
    "import yfinance as yf\n",
    "\n",
    "cryptos = [\"BTC-USD\", \"ETH-USD\", \"LTC-USD\", \"SOL-USD\", \"AVAX-USD\", \"BNB-USD\"]\n",
    "\n",
    "train_start = \"2021-01-01\"\n",
    "train_end = \"2022-12-31\"\n",
    "test_start = \"2023-01-01\"\n",
    "test_end = \"2023-11-30\"\n",
    "\n",
    "for crypto in cryptos:\n",
    "    print(f\"Downloading data for {crypto}...\")\n",
    "    \n",
    "    train_data = yf.download(crypto, start=train_start, end=train_end, interval=\"1d\")\n",
    "    train_data.reset_index(inplace=True)\n",
    "    train_filename = f\"{crypto.split('-')[0]}_train.csv\"\n",
    "    train_data.to_csv(train_filename, index=False)\n",
    "    \n",
    "    test_data = yf.download(crypto, start=test_start, end=test_end, interval=\"1d\")\n",
    "    test_data.reset_index(inplace=True)\n",
    "    test_filename = f\"{crypto.split('-')[0]}_test.csv\"\n",
    "    test_data.to_csv(test_filename, index=False)\n",
    "\n",
    "    print(f\"Data for {crypto} saved as {train_filename} and {test_filename}!\")\n",
    "\n",
    "print(\"All data downloaded successfully!\")"
   ]
  },
  {
   "cell_type": "code",
   "execution_count": 195,
   "metadata": {},
   "outputs": [],
   "source": [
    "cryptos = [\"BTC\", \"ETH\", \"LTC\", \"SOL\", \"AVAX\", \"BNB\"]\n",
    "\n",
    "train_dataset = []\n",
    "test_dataset = []\n",
    "\n",
    "for crypto in cryptos:\n",
    "\n",
    "    train_file = f\"{crypto}_train.csv\"\n",
    "    test_file = f\"{crypto}_test.csv\"\n",
    "    \n",
    "    train_data = pd.read_csv(train_file)\n",
    "    test_data = pd.read_csv(test_file)\n",
    "    \n",
    "    train_data['Date'] = pd.to_datetime(train_data['Date'])\n",
    "    test_data['Date'] = pd.to_datetime(test_data['Date'])\n",
    "    \n",
    "    train_data = train_data[['Date', 'Close']].rename(columns={'Close': f\"{crypto}_close\"})\n",
    "    test_data = test_data[['Date', 'Close']].rename(columns={'Close': f\"{crypto}_close\"})\n",
    "    train_dataset.append(train_data)\n",
    "    test_dataset.append(test_data)\n"
   ]
  },
  {
   "cell_type": "code",
   "execution_count": 196,
   "metadata": {},
   "outputs": [],
   "source": [
    "train_data_merged = train_dataset[0]\n",
    "for data in train_dataset[1:]:\n",
    "    train_data_merged = pd.merge(train_data_merged, data, on=\"Date\", how=\"outer\")"
   ]
  },
  {
   "cell_type": "code",
   "execution_count": 197,
   "metadata": {},
   "outputs": [],
   "source": [
    "test_data_merged = test_dataset[0]\n",
    "for data in test_dataset[1:]:\n",
    "    test_data_merged = pd.merge(test_data_merged, data, on=\"Date\", how=\"outer\")"
   ]
  },
  {
   "cell_type": "code",
   "execution_count": 198,
   "metadata": {},
   "outputs": [],
   "source": [
    "train_data_merged.sort_values(by=\"Date\", inplace=True)\n",
    "test_data_merged.sort_values(by=\"Date\", inplace=True)"
   ]
  },
  {
   "cell_type": "code",
   "execution_count": 199,
   "metadata": {},
   "outputs": [],
   "source": [
    "train_data_merged.reset_index(drop=True, inplace=True)\n",
    "test_data_merged.reset_index(drop=True, inplace=True)"
   ]
  },
  {
   "cell_type": "code",
   "execution_count": 200,
   "metadata": {},
   "outputs": [],
   "source": [
    "train_data_merged.to_csv(\"train_data.csv\", index=False)\n",
    "test_data_merged.to_csv(\"test_data.csv\", index=False)"
   ]
  },
  {
   "cell_type": "code",
   "execution_count": 201,
   "metadata": {},
   "outputs": [],
   "source": [
    "train_data = pd.read_csv(\"train_data.csv\")\n",
    "test_data = pd.read_csv(\"test_data.csv\")"
   ]
  },
  {
   "cell_type": "code",
   "execution_count": 202,
   "metadata": {},
   "outputs": [],
   "source": [
    "train_data['Date'] = pd.to_datetime(train_data['Date'])\n",
    "test_data['Date'] = pd.to_datetime(test_data['Date'])"
   ]
  },
  {
   "cell_type": "code",
   "execution_count": 203,
   "metadata": {},
   "outputs": [],
   "source": [
    "train_data.set_index('Date', inplace=True)\n",
    "test_data.set_index('Date', inplace=True)"
   ]
  },
  {
   "cell_type": "code",
   "execution_count": 204,
   "metadata": {},
   "outputs": [],
   "source": [
    "train_returns = train_data.pct_change().dropna()"
   ]
  },
  {
   "cell_type": "code",
   "execution_count": 205,
   "metadata": {},
   "outputs": [],
   "source": [
    "average_returns = train_returns.mean().sort_values(ascending=False)"
   ]
  },
  {
   "cell_type": "code",
   "execution_count": 206,
   "metadata": {},
   "outputs": [
    {
     "name": "stdout",
     "output_type": "stream",
     "text": [
      "Top 2 currencies based on average returns: ['SOL_close', 'AVAX_close']\n"
     ]
    }
   ],
   "source": [
    "top_2_currencies = average_returns.index[:2]\n",
    "print(f\"Top 2 currencies based on average returns: {list(top_2_currencies)}\")"
   ]
  },
  {
   "cell_type": "code",
   "execution_count": 207,
   "metadata": {},
   "outputs": [],
   "source": [
    "train_top2 = train_returns[top_2_currencies]\n",
    "test_top2 = test_data[top_2_currencies].pct_change().dropna()"
   ]
  },
  {
   "cell_type": "code",
   "execution_count": 218,
   "metadata": {},
   "outputs": [],
   "source": [
    "train_top2.index = pd.to_datetime(train_top2.index)\n",
    "test_top2.index = pd.to_datetime(test_top2.index)\n",
    "\n",
    "train_top2 = train_top2.asfreq('D') # for solving the warning, frequency not initialized\n",
    "test_top2 = test_top2.asfreq('D')"
   ]
  },
  {
   "cell_type": "code",
   "execution_count": 220,
   "metadata": {},
   "outputs": [
    {
     "data": {
      "text/plain": [
       "(728, 2)"
      ]
     },
     "execution_count": 220,
     "metadata": {},
     "output_type": "execute_result"
    }
   ],
   "source": [
    "train_top2.shape"
   ]
  },
  {
   "cell_type": "code",
   "execution_count": 221,
   "metadata": {},
   "outputs": [
    {
     "data": {
      "text/html": [
       "<div>\n",
       "<style scoped>\n",
       "    .dataframe tbody tr th:only-of-type {\n",
       "        vertical-align: middle;\n",
       "    }\n",
       "\n",
       "    .dataframe tbody tr th {\n",
       "        vertical-align: top;\n",
       "    }\n",
       "\n",
       "    .dataframe thead th {\n",
       "        text-align: right;\n",
       "    }\n",
       "</style>\n",
       "<table border=\"1\" class=\"dataframe\">\n",
       "  <thead>\n",
       "    <tr style=\"text-align: right;\">\n",
       "      <th></th>\n",
       "      <th>SOL_close</th>\n",
       "      <th>AVAX_close</th>\n",
       "    </tr>\n",
       "    <tr>\n",
       "      <th>Date</th>\n",
       "      <th></th>\n",
       "      <th></th>\n",
       "    </tr>\n",
       "  </thead>\n",
       "  <tbody>\n",
       "    <tr>\n",
       "      <th>2021-01-02</th>\n",
       "      <td>-0.023239</td>\n",
       "      <td>-0.046355</td>\n",
       "    </tr>\n",
       "    <tr>\n",
       "      <th>2021-01-03</th>\n",
       "      <td>0.201457</td>\n",
       "      <td>-0.006294</td>\n",
       "    </tr>\n",
       "    <tr>\n",
       "      <th>2021-01-04</th>\n",
       "      <td>0.149575</td>\n",
       "      <td>0.033775</td>\n",
       "    </tr>\n",
       "    <tr>\n",
       "      <th>2021-01-05</th>\n",
       "      <td>-0.131938</td>\n",
       "      <td>0.180258</td>\n",
       "    </tr>\n",
       "    <tr>\n",
       "      <th>2021-01-06</th>\n",
       "      <td>-0.105692</td>\n",
       "      <td>0.090372</td>\n",
       "    </tr>\n",
       "  </tbody>\n",
       "</table>\n",
       "</div>"
      ],
      "text/plain": [
       "            SOL_close  AVAX_close\n",
       "Date                             \n",
       "2021-01-02  -0.023239   -0.046355\n",
       "2021-01-03   0.201457   -0.006294\n",
       "2021-01-04   0.149575    0.033775\n",
       "2021-01-05  -0.131938    0.180258\n",
       "2021-01-06  -0.105692    0.090372"
      ]
     },
     "execution_count": 221,
     "metadata": {},
     "output_type": "execute_result"
    }
   ],
   "source": [
    "train_top2.head()"
   ]
  },
  {
   "cell_type": "code",
   "execution_count": 222,
   "metadata": {},
   "outputs": [],
   "source": [
    "lags_to_test = [1, 5]  \n",
    "\n",
    "best_ir = -np.inf \n",
    "best_lag = None\n",
    "best_model = None\n",
    "forecast_returns_best = None"
   ]
  },
  {
   "cell_type": "code",
   "execution_count": 223,
   "metadata": {},
   "outputs": [
    {
     "name": "stdout",
     "output_type": "stream",
     "text": [
      "Fitting VAR model with lag order 1...\n",
      "Information Ratio for p=1: 56.3426\n",
      "Fitting VAR model with lag order 5...\n",
      "Information Ratio for p=5: 5.4108\n",
      "\n",
      "Best lag order: 1\n",
      "Best Information Ratio: 56.3426\n"
     ]
    }
   ],
   "source": [
    "from statsmodels.tsa.api import VAR\n",
    "\n",
    "for p in lags_to_test:\n",
    "    print(f\"Fitting VAR model with lag order {p}...\")\n",
    "    \n",
    "    var_model = VAR(train_top2)\n",
    "    model_fitted = var_model.fit(p)\n",
    "    \n",
    "    forecast = model_fitted.forecast(train_top2.values, steps=len(test_top2))\n",
    "    forecast_returns = pd.DataFrame(forecast, index=test_top2.index, columns=top_2_currencies)\n",
    "    \n",
    "    portfolio_returns = forecast_returns.mean(axis=1)\n",
    "    average_portfolio_return = portfolio_returns.mean()\n",
    "    portfolio_volatility = portfolio_returns.std()\n",
    "    \n",
    "    information_ratio = average_portfolio_return / portfolio_volatility\n",
    "    \n",
    "    print(f\"Information Ratio for p={p}: {information_ratio:.4f}\")\n",
    "    \n",
    "    if information_ratio > best_ir:\n",
    "        best_ir = information_ratio\n",
    "        best_lag = p\n",
    "        best_model = model_fitted\n",
    "        forecast_returns_best = forecast_returns\n",
    "\n",
    "print(f\"\\nBest lag order: {best_lag}\")\n",
    "print(f\"Best Information Ratio: {best_ir:.4f}\")"
   ]
  },
  {
   "cell_type": "code",
   "execution_count": 224,
   "metadata": {},
   "outputs": [
    {
     "data": {
      "text/html": [
       "<div>\n",
       "<style scoped>\n",
       "    .dataframe tbody tr th:only-of-type {\n",
       "        vertical-align: middle;\n",
       "    }\n",
       "\n",
       "    .dataframe tbody tr th {\n",
       "        vertical-align: top;\n",
       "    }\n",
       "\n",
       "    .dataframe thead th {\n",
       "        text-align: right;\n",
       "    }\n",
       "</style>\n",
       "<table border=\"1\" class=\"dataframe\">\n",
       "  <thead>\n",
       "    <tr style=\"text-align: right;\">\n",
       "      <th></th>\n",
       "      <th>SOL_close</th>\n",
       "      <th>AVAX_close</th>\n",
       "    </tr>\n",
       "    <tr>\n",
       "      <th>Date</th>\n",
       "      <th></th>\n",
       "      <th></th>\n",
       "    </tr>\n",
       "  </thead>\n",
       "  <tbody>\n",
       "    <tr>\n",
       "      <th>2023-01-02</th>\n",
       "      <td>0.004388</td>\n",
       "      <td>0.002256</td>\n",
       "    </tr>\n",
       "    <tr>\n",
       "      <th>2023-01-03</th>\n",
       "      <td>0.005160</td>\n",
       "      <td>0.004593</td>\n",
       "    </tr>\n",
       "    <tr>\n",
       "      <th>2023-01-04</th>\n",
       "      <td>0.005159</td>\n",
       "      <td>0.004652</td>\n",
       "    </tr>\n",
       "    <tr>\n",
       "      <th>2023-01-05</th>\n",
       "      <td>0.005160</td>\n",
       "      <td>0.004655</td>\n",
       "    </tr>\n",
       "    <tr>\n",
       "      <th>2023-01-06</th>\n",
       "      <td>0.005160</td>\n",
       "      <td>0.004655</td>\n",
       "    </tr>\n",
       "  </tbody>\n",
       "</table>\n",
       "</div>"
      ],
      "text/plain": [
       "            SOL_close  AVAX_close\n",
       "Date                             \n",
       "2023-01-02   0.004388    0.002256\n",
       "2023-01-03   0.005160    0.004593\n",
       "2023-01-04   0.005159    0.004652\n",
       "2023-01-05   0.005160    0.004655\n",
       "2023-01-06   0.005160    0.004655"
      ]
     },
     "execution_count": 224,
     "metadata": {},
     "output_type": "execute_result"
    }
   ],
   "source": [
    "forecast_returns_best.head()"
   ]
  },
  {
   "cell_type": "code",
   "execution_count": 226,
   "metadata": {},
   "outputs": [],
   "source": [
    "from statsmodels.tsa.api import VAR\n",
    "\n",
    "train_data = train_top2 \n",
    "top_2_currencies = ['SOL_close', 'AVAX_close']  \n",
    "test_data = test_top2 \n",
    "\n",
    "var_model = VAR(train_data[top_2_currencies])\n",
    "model_fitted = var_model.fit(best_lag)\n",
    "\n",
    "forecasted_returns = []\n",
    "\n",
    "last_observation = train_data[top_2_currencies].iloc[-best_lag:]\n",
    "\n",
    "for t in range(len(test_data)):\n",
    "    forecast_step = model_fitted.forecast(last_observation.values.reshape(1, -1), steps=1)\n",
    "    \n",
    "    forecasted_returns.append(forecast_step[0])\n",
    "    \n",
    "    last_observation = pd.DataFrame([forecast_step[0]], columns=top_2_currencies, index=[test_data.index[t]])\n",
    "\n",
    "forecast_returns_best = pd.DataFrame(forecasted_returns, index=test_data.index, columns=top_2_currencies)\n"
   ]
  },
  {
   "cell_type": "code",
   "execution_count": 229,
   "metadata": {},
   "outputs": [
    {
     "data": {
      "image/png": "[encoded data removed]",
      "text/plain": [
       "<Figure size 1000x600 with 1 Axes>"
      ]
     },
     "metadata": {},
     "output_type": "display_data"
    }
   ],
   "source": [
    "import matplotlib.pyplot as plt\n",
    "\n",
    "plt.figure(figsize=(10, 6))\n",
    "plt.plot(forecast_returns_best.index, forecast_returns_best['SOL_close'], label=\"Forecasted SOL Returns\")\n",
    "plt.plot(forecast_returns_best.index, forecast_returns_best['AVAX_close'], label=\"Forecasted AVAX Returns\")\n",
    "\n",
    "# Add labels and title\n",
    "plt.legend()\n",
    "plt.title(f\"Forecasted Returns for Top 2 Currencies (Lag {best_lag})\")\n",
    "plt.xlabel('Date')\n",
    "plt.ylabel('Forecasted Daily Returns')\n",
    "\n",
    "# Show the plot\n",
    "plt.show()"
   ]
  },
  {
   "cell_type": "markdown",
   "metadata": {},
   "source": [
    "## Problem 2: MLP for Detecting Fraudulent Transactions\n",
    "\n",
    "In this problem, we will focus on predicting whether a transaction is a fraud or not. All transactions are provided in \"transactions.csv\". The file contains only numerical input variables which are the result of a PCA transformation. Due to confidentiality issues, original features cannot be provided. Features V1, V2, …, V28 are the principal components obtained with PCA, the only features which have not been transformed with PCA are 'Time' and 'Amount'. Feature 'Time' contains the seconds elapsed between each transaction and the first transaction in the dataset. The feature 'Amount' is the transaction Amount; this feature can be used for example-dependent cost-sensitive learning. Feature 'Class' is the response variable and it takes value 1 in case of fraud and 0 otherwise.\n",
    "\n",
    "Analyze the dataset. Do you think the dataset is balanced? Evaluate and compare the following 2 MLP architectures without SMOTE, as well as after balancing the data via SMOTE. You can compare performance by F1 score and use 5-fold cross-validation for hyperparameter optimization.\n",
    "\n",
    "a- MLP with 1 hidden layer with 8 units in hidden layer\n",
    "\n",
    "b- MLP with 2 hidden layers with 8 units in first layer and 4 units in the second layer."
   ]
  },
  {
   "cell_type": "code",
   "execution_count": 74,
   "metadata": {},
   "outputs": [],
   "source": [
    "data = pd.read_csv('transactions.csv')"
   ]
  },
  {
   "cell_type": "code",
   "execution_count": 75,
   "metadata": {},
   "outputs": [
    {
     "data": {
      "text/html": [
       "<div>\n",
       "<style scoped>\n",
       "    .dataframe tbody tr th:only-of-type {\n",
       "        vertical-align: middle;\n",
       "    }\n",
       "\n",
       "    .dataframe tbody tr th {\n",
       "        vertical-align: top;\n",
       "    }\n",
       "\n",
       "    .dataframe thead th {\n",
       "        text-align: right;\n",
       "    }\n",
       "</style>\n",
       "<table border=\"1\" class=\"dataframe\">\n",
       "  <thead>\n",
       "    <tr style=\"text-align: right;\">\n",
       "      <th></th>\n",
       "      <th>Time</th>\n",
       "      <th>V1</th>\n",
       "      <th>V2</th>\n",
       "      <th>V3</th>\n",
       "      <th>V4</th>\n",
       "      <th>V5</th>\n",
       "      <th>V6</th>\n",
       "      <th>V7</th>\n",
       "      <th>V8</th>\n",
       "      <th>V9</th>\n",
       "      <th>...</th>\n",
       "      <th>V21</th>\n",
       "      <th>V22</th>\n",
       "      <th>V23</th>\n",
       "      <th>V24</th>\n",
       "      <th>V25</th>\n",
       "      <th>V26</th>\n",
       "      <th>V27</th>\n",
       "      <th>V28</th>\n",
       "      <th>Amount</th>\n",
       "      <th>Class</th>\n",
       "    </tr>\n",
       "  </thead>\n",
       "  <tbody>\n",
       "    <tr>\n",
       "      <th>0</th>\n",
       "      <td>0.0</td>\n",
       "      <td>-1.359807</td>\n",
       "      <td>-0.072781</td>\n",
       "      <td>2.536347</td>\n",
       "      <td>1.378155</td>\n",
       "      <td>-0.338321</td>\n",
       "      <td>0.462388</td>\n",
       "      <td>0.239599</td>\n",
       "      <td>0.098698</td>\n",
       "      <td>0.363787</td>\n",
       "      <td>...</td>\n",
       "      <td>-0.018307</td>\n",
       "      <td>0.277838</td>\n",
       "      <td>-0.110474</td>\n",
       "      <td>0.066928</td>\n",
       "      <td>0.128539</td>\n",
       "      <td>-0.189115</td>\n",
       "      <td>0.133558</td>\n",
       "      <td>-0.021053</td>\n",
       "      <td>149.62</td>\n",
       "      <td>0</td>\n",
       "    </tr>\n",
       "    <tr>\n",
       "      <th>1</th>\n",
       "      <td>0.0</td>\n",
       "      <td>1.191857</td>\n",
       "      <td>0.266151</td>\n",
       "      <td>0.166480</td>\n",
       "      <td>0.448154</td>\n",
       "      <td>0.060018</td>\n",
       "      <td>-0.082361</td>\n",
       "      <td>-0.078803</td>\n",
       "      <td>0.085102</td>\n",
       "      <td>-0.255425</td>\n",
       "      <td>...</td>\n",
       "      <td>-0.225775</td>\n",
       "      <td>-0.638672</td>\n",
       "      <td>0.101288</td>\n",
       "      <td>-0.339846</td>\n",
       "      <td>0.167170</td>\n",
       "      <td>0.125895</td>\n",
       "      <td>-0.008983</td>\n",
       "      <td>0.014724</td>\n",
       "      <td>2.69</td>\n",
       "      <td>0</td>\n",
       "    </tr>\n",
       "    <tr>\n",
       "      <th>2</th>\n",
       "      <td>1.0</td>\n",
       "      <td>-1.358354</td>\n",
       "      <td>-1.340163</td>\n",
       "      <td>1.773209</td>\n",
       "      <td>0.379780</td>\n",
       "      <td>-0.503198</td>\n",
       "      <td>1.800499</td>\n",
       "      <td>0.791461</td>\n",
       "      <td>0.247676</td>\n",
       "      <td>-1.514654</td>\n",
       "      <td>...</td>\n",
       "      <td>0.247998</td>\n",
       "      <td>0.771679</td>\n",
       "      <td>0.909412</td>\n",
       "      <td>-0.689281</td>\n",
       "      <td>-0.327642</td>\n",
       "      <td>-0.139097</td>\n",
       "      <td>-0.055353</td>\n",
       "      <td>-0.059752</td>\n",
       "      <td>378.66</td>\n",
       "      <td>0</td>\n",
       "    </tr>\n",
       "    <tr>\n",
       "      <th>3</th>\n",
       "      <td>1.0</td>\n",
       "      <td>-0.966272</td>\n",
       "      <td>-0.185226</td>\n",
       "      <td>1.792993</td>\n",
       "      <td>-0.863291</td>\n",
       "      <td>-0.010309</td>\n",
       "      <td>1.247203</td>\n",
       "      <td>0.237609</td>\n",
       "      <td>0.377436</td>\n",
       "      <td>-1.387024</td>\n",
       "      <td>...</td>\n",
       "      <td>-0.108300</td>\n",
       "      <td>0.005274</td>\n",
       "      <td>-0.190321</td>\n",
       "      <td>-1.175575</td>\n",
       "      <td>0.647376</td>\n",
       "      <td>-0.221929</td>\n",
       "      <td>0.062723</td>\n",
       "      <td>0.061458</td>\n",
       "      <td>123.50</td>\n",
       "      <td>0</td>\n",
       "    </tr>\n",
       "    <tr>\n",
       "      <th>4</th>\n",
       "      <td>2.0</td>\n",
       "      <td>-1.158233</td>\n",
       "      <td>0.877737</td>\n",
       "      <td>1.548718</td>\n",
       "      <td>0.403034</td>\n",
       "      <td>-0.407193</td>\n",
       "      <td>0.095921</td>\n",
       "      <td>0.592941</td>\n",
       "      <td>-0.270533</td>\n",
       "      <td>0.817739</td>\n",
       "      <td>...</td>\n",
       "      <td>-0.009431</td>\n",
       "      <td>0.798278</td>\n",
       "      <td>-0.137458</td>\n",
       "      <td>0.141267</td>\n",
       "      <td>-0.206010</td>\n",
       "      <td>0.502292</td>\n",
       "      <td>0.219422</td>\n",
       "      <td>0.215153</td>\n",
       "      <td>69.99</td>\n",
       "      <td>0</td>\n",
       "    </tr>\n",
       "  </tbody>\n",
       "</table>\n",
       "<p>5 rows × 31 columns</p>\n",
       "</div>"
      ],
      "text/plain": [
       "   Time        V1        V2        V3        V4        V5        V6        V7  \\\n",
       "0   0.0 -1.359807 -0.072781  2.536347  1.378155 -0.338321  0.462388  0.239599   \n",
       "1   0.0  1.191857  0.266151  0.166480  0.448154  0.060018 -0.082361 -0.078803   \n",
       "2   1.0 -1.358354 -1.340163  1.773209  0.379780 -0.503198  1.800499  0.791461   \n",
       "3   1.0 -0.966272 -0.185226  1.792993 -0.863291 -0.010309  1.247203  0.237609   \n",
       "4   2.0 -1.158233  0.877737  1.548718  0.403034 -0.407193  0.095921  0.592941   \n",
       "\n",
       "         V8        V9  ...       V21       V22       V23       V24       V25  \\\n",
       "0  0.098698  0.363787  ... -0.018307  0.277838 -0.110474  0.066928  0.128539   \n",
       "1  0.085102 -0.255425  ... -0.225775 -0.638672  0.101288 -0.339846  0.167170   \n",
       "2  0.247676 -1.514654  ...  0.247998  0.771679  0.909412 -0.689281 -0.327642   \n",
       "3  0.377436 -1.387024  ... -0.108300  0.005274 -0.190321 -1.175575  0.647376   \n",
       "4 -0.270533  0.817739  ... -0.009431  0.798278 -0.137458  0.141267 -0.206010   \n",
       "\n",
       "        V26       V27       V28  Amount  Class  \n",
       "0 -0.189115  0.133558 -0.021053  149.62      0  \n",
       "1  0.125895 -0.008983  0.014724    2.69      0  \n",
       "2 -0.139097 -0.055353 -0.059752  378.66      0  \n",
       "3 -0.221929  0.062723  0.061458  123.50      0  \n",
       "4  0.502292  0.219422  0.215153   69.99      0  \n",
       "\n",
       "[5 rows x 31 columns]"
      ]
     },
     "execution_count": 75,
     "metadata": {},
     "output_type": "execute_result"
    }
   ],
   "source": [
    "data.head()"
   ]
  },
  {
   "cell_type": "code",
   "execution_count": 77,
   "metadata": {},
   "outputs": [
    {
     "data": {
      "text/plain": [
       "Time      0\n",
       "V1        0\n",
       "V2        0\n",
       "V3        0\n",
       "V4        0\n",
       "V5        0\n",
       "V6        0\n",
       "V7        0\n",
       "V8        0\n",
       "V9        0\n",
       "V10       0\n",
       "V11       0\n",
       "V12       0\n",
       "V13       0\n",
       "V14       0\n",
       "V15       0\n",
       "V16       0\n",
       "V17       0\n",
       "V18       0\n",
       "V19       0\n",
       "V20       0\n",
       "V21       0\n",
       "V22       0\n",
       "V23       0\n",
       "V24       0\n",
       "V25       0\n",
       "V26       0\n",
       "V27       0\n",
       "V28       0\n",
       "Amount    0\n",
       "Class     0\n",
       "dtype: int64"
      ]
     },
     "execution_count": 77,
     "metadata": {},
     "output_type": "execute_result"
    }
   ],
   "source": [
    "data.isna().sum()"
   ]
  },
  {
   "cell_type": "code",
   "execution_count": 78,
   "metadata": {},
   "outputs": [
    {
     "data": {
      "image/png": "[encoded data removed]",
      "text/plain": [
       "<Figure size 800x600 with 1 Axes>"
      ]
     },
     "metadata": {},
     "output_type": "display_data"
    }
   ],
   "source": [
    "import matplotlib.pyplot as plt\n",
    "\n",
    "class_distribution = data['Class'].value_counts()\n",
    "\n",
    "plt.figure(figsize=(8,6))\n",
    "class_distribution.plot(kind='bar', color=['skyblue', 'salmon'])\n",
    "plt.title('Class Distribution')\n",
    "plt.xlabel('Class')\n",
    "plt.ylabel('Frequency')\n",
    "plt.xticks([0, 1], ['Non-Fraud (0)', 'Fraud (1)'], rotation=0)\n",
    "plt.show()"
   ]
  },
  {
   "cell_type": "code",
   "execution_count": 79,
   "metadata": {},
   "outputs": [
    {
     "name": "stdout",
     "output_type": "stream",
     "text": [
      "Class distribution (counts):\n",
      "Class\n",
      "0    284315\n",
      "1       492\n",
      "Name: count, dtype: int64\n",
      "\n",
      "Class distribution (percentage):\n",
      "Class\n",
      "0    99.827251\n",
      "1     0.172749\n",
      "Name: count, dtype: float64\n"
     ]
    }
   ],
   "source": [
    "print(\"Class distribution (counts):\")\n",
    "print(class_distribution)\n",
    "\n",
    "print(\"\\nClass distribution (percentage):\")\n",
    "print(class_distribution / len(data) * 100)"
   ]
  },
  {
   "cell_type": "markdown",
   "metadata": {},
   "source": [
    "##### There is a significant imbalance for the dataset. Fraud class is not represented well like in overall dataset the %0.17 of the data is for Fraud class but %99.82 is for Non-Fraud class."
   ]
  },
  {
   "cell_type": "code",
   "execution_count": 80,
   "metadata": {},
   "outputs": [],
   "source": [
    "from sklearn.model_selection import train_test_split\n",
    "from sklearn.preprocessing import StandardScaler\n",
    "\n",
    "# separate columns for features and target\n",
    "X = data.drop(columns=['Class']) \n",
    "y = data['Class']"
   ]
  },
  {
   "cell_type": "code",
   "execution_count": 82,
   "metadata": {},
   "outputs": [],
   "source": [
    "X_train, X_test, y_train, y_test = train_test_split(X, y, test_size=0.2, random_state=42)"
   ]
  },
  {
   "cell_type": "code",
   "execution_count": 83,
   "metadata": {},
   "outputs": [],
   "source": [
    "# There are only numerical values after PCA\n",
    "scaler = StandardScaler()\n",
    "X_train_scaled = scaler.fit_transform(X_train)\n",
    "X_test_scaled = scaler.transform(X_test)"
   ]
  },
  {
   "cell_type": "code",
   "execution_count": 87,
   "metadata": {},
   "outputs": [],
   "source": [
    "from sklearn.neural_network import MLPClassifier\n",
    "\n",
    "model_1 = MLPClassifier(hidden_layer_sizes=(8,), random_state=42, max_iter=1000)\n",
    "model_2 = MLPClassifier(hidden_layer_sizes=(8, 4), random_state=42, max_iter=1000)"
   ]
  },
  {
   "cell_type": "code",
   "execution_count": 88,
   "metadata": {},
   "outputs": [],
   "source": [
    "from sklearn.pipeline import Pipeline\n",
    "from sklearn.metrics import make_scorer, f1_score\n",
    "from sklearn.model_selection import  cross_val_score\n",
    "\n",
    "def train_and_evaluate(model, X_train, y_train):\n",
    "\n",
    "    pipeline = Pipeline(steps=[('scaler', StandardScaler()),  \n",
    "                               ('model', model)])  \n",
    "    \n",
    "    pipeline.fit(X_train, y_train)\n",
    "    \n",
    "    cv_scores = cross_val_score(pipeline, X_train, y_train, cv=5, scoring='f1')\n",
    "    mean_f1_score = np.mean(cv_scores)\n",
    "    return mean_f1_score, cv_scores"
   ]
  },
  {
   "cell_type": "code",
   "execution_count": 89,
   "metadata": {},
   "outputs": [
    {
     "name": "stdout",
     "output_type": "stream",
     "text": [
      "MLP Model 1 (Before SMOTE) - F1 Scores: [0.81879195 0.77941176 0.82119205 0.79452055 0.81290323]\n",
      "Mean F1 Score for MLP Model 1 (Before SMOTE): 0.8054\n"
     ]
    }
   ],
   "source": [
    "f1_score_1_before, cv_scores_1_before = train_and_evaluate(model_1, X_train, y_train)\n",
    "print(f\"MLP Model 1 (Before SMOTE) - F1 Scores: {cv_scores_1_before}\")\n",
    "print(f\"Mean F1 Score for MLP Model 1 (Before SMOTE): {f1_score_1_before:.4f}\")"
   ]
  },
  {
   "cell_type": "code",
   "execution_count": 90,
   "metadata": {},
   "outputs": [
    {
     "name": "stdout",
     "output_type": "stream",
     "text": [
      "MLP Model 2 (Before SMOTE) - F1 Scores: [0.84137931 0.79136691 0.80821918 0.81578947 0.82051282]\n",
      "Mean F1 Score for MLP Model 2 (Before SMOTE): 0.8155\n"
     ]
    }
   ],
   "source": [
    "f1_score_2_before, cv_scores_2_before = train_and_evaluate(model_2, X_train, y_train)\n",
    "print(f\"MLP Model 2 (Before SMOTE) - F1 Scores: {cv_scores_2_before}\")\n",
    "print(f\"Mean F1 Score for MLP Model 2 (Before SMOTE): {f1_score_2_before:.4f}\")"
   ]
  },
  {
   "cell_type": "code",
   "execution_count": 84,
   "metadata": {},
   "outputs": [],
   "source": [
    "from imblearn.over_sampling import SMOTE\n",
    "\n",
    "# Apply SMOTE for balancing the dataset\n",
    "smote = SMOTE(random_state=42)\n",
    "X_train_smote, y_train_smote = smote.fit_resample(X_train_scaled, y_train)"
   ]
  },
  {
   "cell_type": "code",
   "execution_count": 85,
   "metadata": {},
   "outputs": [
    {
     "data": {
      "image/png": "[encoded data removed]",
      "text/plain": [
       "<Figure size 600x400 with 1 Axes>"
      ]
     },
     "metadata": {},
     "output_type": "display_data"
    }
   ],
   "source": [
    "# Plot the class distribution after SMOTE balancing\n",
    "plt.figure(figsize=(6, 4))\n",
    "y_train_smote.value_counts().plot(kind='bar', color=['skyblue', 'salmon'])\n",
    "plt.title('Class Distribution After SMOTE')\n",
    "plt.xlabel('Class')\n",
    "plt.ylabel('Count')\n",
    "plt.xticks([0, 1], ['Non-Fraud (0)', 'Fraud (1)'], rotation=0)\n",
    "plt.show()"
   ]
  },
  {
   "cell_type": "code",
   "execution_count": 86,
   "metadata": {},
   "outputs": [
    {
     "name": "stdout",
     "output_type": "stream",
     "text": [
      "\n",
      "Class Distribution After SMOTE (Counts):\n",
      "Class\n",
      "0    227451\n",
      "1    227451\n",
      "Name: count, dtype: int64\n",
      "\n",
      "Class Distribution After SMOTE (Percentage):\n",
      "Class\n",
      "0    50.0\n",
      "1    50.0\n",
      "Name: proportion, dtype: float64\n"
     ]
    }
   ],
   "source": [
    "print(\"\\nClass Distribution After SMOTE (Counts):\")\n",
    "print(y_train_smote.value_counts())\n",
    "\n",
    "print(\"\\nClass Distribution After SMOTE (Percentage):\")\n",
    "print(y_train_smote.value_counts(normalize=True) * 100)"
   ]
  },
  {
   "cell_type": "code",
   "execution_count": 91,
   "metadata": {},
   "outputs": [
    {
     "name": "stdout",
     "output_type": "stream",
     "text": [
      "MLP Model 1 (After SMOTE) - F1 Scores: [0.99468499 0.99518793 0.99453588 0.99401014 0.99577791]\n",
      "Mean F1 Score for MLP Model 1 (After SMOTE): 0.9948\n"
     ]
    }
   ],
   "source": [
    "f1_score_1_after, cv_scores_1_after = train_and_evaluate(model_1, X_train_smote, y_train_smote)\n",
    "print(f\"MLP Model 1 (After SMOTE) - F1 Scores: {cv_scores_1_after}\")\n",
    "print(f\"Mean F1 Score for MLP Model 1 (After SMOTE): {f1_score_1_after:.4f}\")"
   ]
  },
  {
   "cell_type": "code",
   "execution_count": 92,
   "metadata": {},
   "outputs": [
    {
     "name": "stdout",
     "output_type": "stream",
     "text": [
      "MLP Model 2 (After SMOTE) - F1 Scores: [0.99391871 0.99559703 0.99379018 0.99402299 0.99532162]\n",
      "Mean F1 Score for MLP Model 2 (After SMOTE): 0.9945\n"
     ]
    }
   ],
   "source": [
    "f1_score_2_after, cv_scores_2_after = train_and_evaluate(model_2, X_train_smote, y_train_smote)\n",
    "print(f\"MLP Model 2 (After SMOTE) - F1 Scores: {cv_scores_2_after}\")\n",
    "print(f\"Mean F1 Score for MLP Model 2 (After SMOTE): {f1_score_2_after:.4f}\")"
   ]
  },
  {
   "cell_type": "markdown",
   "metadata": {},
   "source": [
    "#####  ---------------------------Those values for test set----------------------------------------"
   ]
  },
  {
   "cell_type": "code",
   "execution_count": 93,
   "metadata": {},
   "outputs": [],
   "source": [
    "from sklearn.metrics import f1_score, precision_score, recall_score, accuracy_score\n",
    "\n",
    "def evaluate_model(model, X_train, X_test, y_train, y_test):\n",
    "    model.fit(X_train, y_train)\n",
    "    y_pred = model.predict(X_test)\n",
    "\n",
    "    f1 = f1_score(y_test, y_pred)\n",
    "    precision = precision_score(y_test, y_pred)\n",
    "    recall = recall_score(y_test, y_pred)\n",
    "    accuracy = accuracy_score(y_test, y_pred)\n",
    "    \n",
    "    return f1, precision, recall, accuracy"
   ]
  },
  {
   "cell_type": "code",
   "execution_count": 95,
   "metadata": {},
   "outputs": [
    {
     "name": "stdout",
     "output_type": "stream",
     "text": [
      "MLP Model 1 (Before SMOTE) - F1 Score: 0.8021390374331551\n",
      "MLP Model 1 (Before SMOTE) - Precision: 0.8426966292134831\n",
      "MLP Model 1 (Before SMOTE) - Recall: 0.7653061224489796\n",
      "MLP Model 1 (Before SMOTE) - Accuracy: 0.9993504441557529\n"
     ]
    }
   ],
   "source": [
    "f1_before_1, precision_before_1, recall_before_1, accuracy_before_1 = evaluate_model(model_1, X_train_scaled, X_test_scaled, y_train, y_test)\n",
    "print(\"MLP Model 1 (Before SMOTE) - F1 Score:\", f1_before_1)\n",
    "print(\"MLP Model 1 (Before SMOTE) - Precision:\", precision_before_1)\n",
    "print(\"MLP Model 1 (Before SMOTE) - Recall:\", recall_before_1)\n",
    "print(\"MLP Model 1 (Before SMOTE) - Accuracy:\", accuracy_before_1)"
   ]
  },
  {
   "cell_type": "code",
   "execution_count": 96,
   "metadata": {},
   "outputs": [],
   "source": [
    "f1_before_2, precision_before_2, recall_before_2, accuracy_before_2 = evaluate_model(model_2, X_train_scaled, X_test_scaled, y_train, y_test)"
   ]
  },
  {
   "cell_type": "code",
   "execution_count": 97,
   "metadata": {},
   "outputs": [
    {
     "name": "stdout",
     "output_type": "stream",
     "text": [
      "\n",
      "MLP Model 2 (Before SMOTE) - F1 Score: 0.7784431137724551\n",
      "MLP Model 2 (Before SMOTE) - Precision: 0.9420289855072463\n",
      "MLP Model 2 (Before SMOTE) - Recall: 0.6632653061224489\n",
      "MLP Model 2 (Before SMOTE) - Accuracy: 0.9993504441557529\n"
     ]
    }
   ],
   "source": [
    "print(\"\\nMLP Model 2 (Before SMOTE) - F1 Score:\", f1_before_2)\n",
    "print(\"MLP Model 2 (Before SMOTE) - Precision:\", precision_before_2)\n",
    "print(\"MLP Model 2 (Before SMOTE) - Recall:\", recall_before_2)\n",
    "print(\"MLP Model 2 (Before SMOTE) - Accuracy:\", accuracy_before_2)"
   ]
  },
  {
   "cell_type": "code",
   "execution_count": 98,
   "metadata": {},
   "outputs": [],
   "source": [
    "f1_after_1, precision_after_1, recall_after_1, accuracy_after_1 = evaluate_model(model_1, X_train_smote, X_test_scaled, y_train_smote, y_test)"
   ]
  },
  {
   "cell_type": "code",
   "execution_count": 99,
   "metadata": {},
   "outputs": [
    {
     "name": "stdout",
     "output_type": "stream",
     "text": [
      "\n",
      "MLP Model 1 (After SMOTE) - F1 Score: 0.2953020134228188\n",
      "MLP Model 1 (After SMOTE) - Precision: 0.17670682730923695\n",
      "MLP Model 1 (After SMOTE) - Recall: 0.8979591836734694\n",
      "MLP Model 1 (After SMOTE) - Accuracy: 0.9926266633896281\n"
     ]
    }
   ],
   "source": [
    "print(\"\\nMLP Model 1 (After SMOTE) - F1 Score:\", f1_after_1)\n",
    "print(\"MLP Model 1 (After SMOTE) - Precision:\", precision_after_1)\n",
    "print(\"MLP Model 1 (After SMOTE) - Recall:\", recall_after_1)\n",
    "print(\"MLP Model 1 (After SMOTE) - Accuracy:\", accuracy_after_1)"
   ]
  },
  {
   "cell_type": "code",
   "execution_count": 100,
   "metadata": {},
   "outputs": [],
   "source": [
    "f1_after_2, precision_after_2, recall_after_2, accuracy_after_2 = evaluate_model(model_2, X_train_smote, X_test_scaled, y_train_smote, y_test)"
   ]
  },
  {
   "cell_type": "code",
   "execution_count": 101,
   "metadata": {},
   "outputs": [
    {
     "name": "stdout",
     "output_type": "stream",
     "text": [
      "\n",
      "MLP Model 2 (After SMOTE) - F1 Score: 0.4029126213592233\n",
      "MLP Model 2 (After SMOTE) - Precision: 0.2643312101910828\n",
      "MLP Model 2 (After SMOTE) - Recall: 0.8469387755102041\n",
      "MLP Model 2 (After SMOTE) - Accuracy: 0.9956813314139251\n"
     ]
    }
   ],
   "source": [
    "\n",
    "print(\"\\nMLP Model 2 (After SMOTE) - F1 Score:\", f1_after_2)\n",
    "print(\"MLP Model 2 (After SMOTE) - Precision:\", precision_after_2)\n",
    "print(\"MLP Model 2 (After SMOTE) - Recall:\", recall_after_2)\n",
    "print(\"MLP Model 2 (After SMOTE) - Accuracy:\", accuracy_after_2)"
   ]
  },
  {
   "cell_type": "markdown",
   "metadata": {},
   "source": [
    "## Problem 3: MLP for House Price Prediction\n",
    "\n",
    "Let's focus on the same Real State Price dataset from HW1 and HW2. In this problem, you are provided a single dataset \"kaggle_house.csv\" which includes both train and test sets. We will now implement four MLPs: \n",
    "\n",
    "a- MLP with 1 hidden layer with 8 units in hidden layer\n",
    "\n",
    "b- MLP with 1 hidden layer with 4 units in hidden layer\n",
    "\n",
    "c- MLP with 2 hidden layers with 4 units in both first and second layers.\n",
    "\n",
    "d- MLP with 2 hidden layers with 8 units in first layer and 4 units in the second layer.\n",
    "\n",
    "We will predict house sale price (last column) by using the following attributes: \"SalePrice\", \"MSSubClass\", \"MSZoning\", \"LotFrontage\", \"LotArea\",\"Street\", \"YearBuilt\", \"LotShape\", \"1stFlrSF\", \"2ndFlrSF\". Report the performance in terms of R2 and RMSE for the test set by applying 5-fold cross-validation.\n",
    "\n",
    "Note that you need to carefully tune learning rate and number of epochs. "
   ]
  },
  {
   "cell_type": "code",
   "execution_count": 32,
   "metadata": {},
   "outputs": [],
   "source": [
    "data = pd.read_csv('kaggle_house.csv')"
   ]
  },
  {
   "cell_type": "code",
   "execution_count": 33,
   "metadata": {},
   "outputs": [
    {
     "data": {
      "text/html": [
       "<div>\n",
       "<style scoped>\n",
       "    .dataframe tbody tr th:only-of-type {\n",
       "        vertical-align: middle;\n",
       "    }\n",
       "\n",
       "    .dataframe tbody tr th {\n",
       "        vertical-align: top;\n",
       "    }\n",
       "\n",
       "    .dataframe thead th {\n",
       "        text-align: right;\n",
       "    }\n",
       "</style>\n",
       "<table border=\"1\" class=\"dataframe\">\n",
       "  <thead>\n",
       "    <tr style=\"text-align: right;\">\n",
       "      <th></th>\n",
       "      <th>Id</th>\n",
       "      <th>MSSubClass</th>\n",
       "      <th>MSZoning</th>\n",
       "      <th>LotFrontage</th>\n",
       "      <th>LotArea</th>\n",
       "      <th>Street</th>\n",
       "      <th>Alley</th>\n",
       "      <th>LotShape</th>\n",
       "      <th>LandContour</th>\n",
       "      <th>Utilities</th>\n",
       "      <th>...</th>\n",
       "      <th>PoolArea</th>\n",
       "      <th>PoolQC</th>\n",
       "      <th>Fence</th>\n",
       "      <th>MiscFeature</th>\n",
       "      <th>MiscVal</th>\n",
       "      <th>MoSold</th>\n",
       "      <th>YrSold</th>\n",
       "      <th>SaleType</th>\n",
       "      <th>SaleCondition</th>\n",
       "      <th>SalePrice</th>\n",
       "    </tr>\n",
       "  </thead>\n",
       "  <tbody>\n",
       "    <tr>\n",
       "      <th>0</th>\n",
       "      <td>1</td>\n",
       "      <td>60</td>\n",
       "      <td>RL</td>\n",
       "      <td>65.0</td>\n",
       "      <td>8450</td>\n",
       "      <td>Pave</td>\n",
       "      <td>NaN</td>\n",
       "      <td>Reg</td>\n",
       "      <td>Lvl</td>\n",
       "      <td>AllPub</td>\n",
       "      <td>...</td>\n",
       "      <td>0</td>\n",
       "      <td>NaN</td>\n",
       "      <td>NaN</td>\n",
       "      <td>NaN</td>\n",
       "      <td>0</td>\n",
       "      <td>2</td>\n",
       "      <td>2008</td>\n",
       "      <td>WD</td>\n",
       "      <td>Normal</td>\n",
       "      <td>208500</td>\n",
       "    </tr>\n",
       "    <tr>\n",
       "      <th>1</th>\n",
       "      <td>2</td>\n",
       "      <td>20</td>\n",
       "      <td>RL</td>\n",
       "      <td>80.0</td>\n",
       "      <td>9600</td>\n",
       "      <td>Pave</td>\n",
       "      <td>NaN</td>\n",
       "      <td>Reg</td>\n",
       "      <td>Lvl</td>\n",
       "      <td>AllPub</td>\n",
       "      <td>...</td>\n",
       "      <td>0</td>\n",
       "      <td>NaN</td>\n",
       "      <td>NaN</td>\n",
       "      <td>NaN</td>\n",
       "      <td>0</td>\n",
       "      <td>5</td>\n",
       "      <td>2007</td>\n",
       "      <td>WD</td>\n",
       "      <td>Normal</td>\n",
       "      <td>181500</td>\n",
       "    </tr>\n",
       "    <tr>\n",
       "      <th>2</th>\n",
       "      <td>3</td>\n",
       "      <td>60</td>\n",
       "      <td>RL</td>\n",
       "      <td>68.0</td>\n",
       "      <td>11250</td>\n",
       "      <td>Pave</td>\n",
       "      <td>NaN</td>\n",
       "      <td>IR1</td>\n",
       "      <td>Lvl</td>\n",
       "      <td>AllPub</td>\n",
       "      <td>...</td>\n",
       "      <td>0</td>\n",
       "      <td>NaN</td>\n",
       "      <td>NaN</td>\n",
       "      <td>NaN</td>\n",
       "      <td>0</td>\n",
       "      <td>9</td>\n",
       "      <td>2008</td>\n",
       "      <td>WD</td>\n",
       "      <td>Normal</td>\n",
       "      <td>223500</td>\n",
       "    </tr>\n",
       "    <tr>\n",
       "      <th>3</th>\n",
       "      <td>4</td>\n",
       "      <td>70</td>\n",
       "      <td>RL</td>\n",
       "      <td>60.0</td>\n",
       "      <td>9550</td>\n",
       "      <td>Pave</td>\n",
       "      <td>NaN</td>\n",
       "      <td>IR1</td>\n",
       "      <td>Lvl</td>\n",
       "      <td>AllPub</td>\n",
       "      <td>...</td>\n",
       "      <td>0</td>\n",
       "      <td>NaN</td>\n",
       "      <td>NaN</td>\n",
       "      <td>NaN</td>\n",
       "      <td>0</td>\n",
       "      <td>2</td>\n",
       "      <td>2006</td>\n",
       "      <td>WD</td>\n",
       "      <td>Abnorml</td>\n",
       "      <td>140000</td>\n",
       "    </tr>\n",
       "    <tr>\n",
       "      <th>4</th>\n",
       "      <td>5</td>\n",
       "      <td>60</td>\n",
       "      <td>RL</td>\n",
       "      <td>84.0</td>\n",
       "      <td>14260</td>\n",
       "      <td>Pave</td>\n",
       "      <td>NaN</td>\n",
       "      <td>IR1</td>\n",
       "      <td>Lvl</td>\n",
       "      <td>AllPub</td>\n",
       "      <td>...</td>\n",
       "      <td>0</td>\n",
       "      <td>NaN</td>\n",
       "      <td>NaN</td>\n",
       "      <td>NaN</td>\n",
       "      <td>0</td>\n",
       "      <td>12</td>\n",
       "      <td>2008</td>\n",
       "      <td>WD</td>\n",
       "      <td>Normal</td>\n",
       "      <td>250000</td>\n",
       "    </tr>\n",
       "  </tbody>\n",
       "</table>\n",
       "<p>5 rows × 81 columns</p>\n",
       "</div>"
      ],
      "text/plain": [
       "   Id  MSSubClass MSZoning  LotFrontage  LotArea Street Alley LotShape  \\\n",
       "0   1          60       RL         65.0     8450   Pave   NaN      Reg   \n",
       "1   2          20       RL         80.0     9600   Pave   NaN      Reg   \n",
       "2   3          60       RL         68.0    11250   Pave   NaN      IR1   \n",
       "3   4          70       RL         60.0     9550   Pave   NaN      IR1   \n",
       "4   5          60       RL         84.0    14260   Pave   NaN      IR1   \n",
       "\n",
       "  LandContour Utilities  ... PoolArea PoolQC Fence MiscFeature MiscVal MoSold  \\\n",
       "0         Lvl    AllPub  ...        0    NaN   NaN         NaN       0      2   \n",
       "1         Lvl    AllPub  ...        0    NaN   NaN         NaN       0      5   \n",
       "2         Lvl    AllPub  ...        0    NaN   NaN         NaN       0      9   \n",
       "3         Lvl    AllPub  ...        0    NaN   NaN         NaN       0      2   \n",
       "4         Lvl    AllPub  ...        0    NaN   NaN         NaN       0     12   \n",
       "\n",
       "  YrSold  SaleType  SaleCondition  SalePrice  \n",
       "0   2008        WD         Normal     208500  \n",
       "1   2007        WD         Normal     181500  \n",
       "2   2008        WD         Normal     223500  \n",
       "3   2006        WD        Abnorml     140000  \n",
       "4   2008        WD         Normal     250000  \n",
       "\n",
       "[5 rows x 81 columns]"
      ]
     },
     "execution_count": 33,
     "metadata": {},
     "output_type": "execute_result"
    }
   ],
   "source": [
    "data.head()"
   ]
  },
  {
   "cell_type": "code",
   "execution_count": 34,
   "metadata": {},
   "outputs": [
    {
     "data": {
      "text/plain": [
       "Index(['Id', 'MSSubClass', 'MSZoning', 'LotFrontage', 'LotArea', 'Street',\n",
       "       'Alley', 'LotShape', 'LandContour', 'Utilities', 'LotConfig',\n",
       "       'LandSlope', 'Neighborhood', 'Condition1', 'Condition2', 'BldgType',\n",
       "       'HouseStyle', 'OverallQual', 'OverallCond', 'YearBuilt', 'YearRemodAdd',\n",
       "       'RoofStyle', 'RoofMatl', 'Exterior1st', 'Exterior2nd', 'MasVnrType',\n",
       "       'MasVnrArea', 'ExterQual', 'ExterCond', 'Foundation', 'BsmtQual',\n",
       "       'BsmtCond', 'BsmtExposure', 'BsmtFinType1', 'BsmtFinSF1',\n",
       "       'BsmtFinType2', 'BsmtFinSF2', 'BsmtUnfSF', 'TotalBsmtSF', 'Heating',\n",
       "       'HeatingQC', 'CentralAir', 'Electrical', '1stFlrSF', '2ndFlrSF',\n",
       "       'LowQualFinSF', 'GrLivArea', 'BsmtFullBath', 'BsmtHalfBath', 'FullBath',\n",
       "       'HalfBath', 'BedroomAbvGr', 'KitchenAbvGr', 'KitchenQual',\n",
       "       'TotRmsAbvGrd', 'Functional', 'Fireplaces', 'FireplaceQu', 'GarageType',\n",
       "       'GarageYrBlt', 'GarageFinish', 'GarageCars', 'GarageArea', 'GarageQual',\n",
       "       'GarageCond', 'PavedDrive', 'WoodDeckSF', 'OpenPorchSF',\n",
       "       'EnclosedPorch', '3SsnPorch', 'ScreenPorch', 'PoolArea', 'PoolQC',\n",
       "       'Fence', 'MiscFeature', 'MiscVal', 'MoSold', 'YrSold', 'SaleType',\n",
       "       'SaleCondition', 'SalePrice'],\n",
       "      dtype='object')"
      ]
     },
     "execution_count": 34,
     "metadata": {},
     "output_type": "execute_result"
    }
   ],
   "source": [
    "data.columns"
   ]
  },
  {
   "cell_type": "code",
   "execution_count": 35,
   "metadata": {},
   "outputs": [],
   "source": [
    "columns = [\"MSSubClass\", \"MSZoning\", \"LotFrontage\", \"LotArea\", \"Street\", \n",
    "           \"YearBuilt\", \"LotShape\", \"1stFlrSF\", \"2ndFlrSF\", \"SalePrice\"]\n",
    "data_columns = data[columns]"
   ]
  },
  {
   "cell_type": "code",
   "execution_count": 36,
   "metadata": {},
   "outputs": [
    {
     "data": {
      "text/html": [
       "<div>\n",
       "<style scoped>\n",
       "    .dataframe tbody tr th:only-of-type {\n",
       "        vertical-align: middle;\n",
       "    }\n",
       "\n",
       "    .dataframe tbody tr th {\n",
       "        vertical-align: top;\n",
       "    }\n",
       "\n",
       "    .dataframe thead th {\n",
       "        text-align: right;\n",
       "    }\n",
       "</style>\n",
       "<table border=\"1\" class=\"dataframe\">\n",
       "  <thead>\n",
       "    <tr style=\"text-align: right;\">\n",
       "      <th></th>\n",
       "      <th>MSSubClass</th>\n",
       "      <th>MSZoning</th>\n",
       "      <th>LotFrontage</th>\n",
       "      <th>LotArea</th>\n",
       "      <th>Street</th>\n",
       "      <th>YearBuilt</th>\n",
       "      <th>LotShape</th>\n",
       "      <th>1stFlrSF</th>\n",
       "      <th>2ndFlrSF</th>\n",
       "      <th>SalePrice</th>\n",
       "    </tr>\n",
       "  </thead>\n",
       "  <tbody>\n",
       "    <tr>\n",
       "      <th>0</th>\n",
       "      <td>60</td>\n",
       "      <td>RL</td>\n",
       "      <td>65.0</td>\n",
       "      <td>8450</td>\n",
       "      <td>Pave</td>\n",
       "      <td>2003</td>\n",
       "      <td>Reg</td>\n",
       "      <td>856</td>\n",
       "      <td>854</td>\n",
       "      <td>208500</td>\n",
       "    </tr>\n",
       "    <tr>\n",
       "      <th>1</th>\n",
       "      <td>20</td>\n",
       "      <td>RL</td>\n",
       "      <td>80.0</td>\n",
       "      <td>9600</td>\n",
       "      <td>Pave</td>\n",
       "      <td>1976</td>\n",
       "      <td>Reg</td>\n",
       "      <td>1262</td>\n",
       "      <td>0</td>\n",
       "      <td>181500</td>\n",
       "    </tr>\n",
       "    <tr>\n",
       "      <th>2</th>\n",
       "      <td>60</td>\n",
       "      <td>RL</td>\n",
       "      <td>68.0</td>\n",
       "      <td>11250</td>\n",
       "      <td>Pave</td>\n",
       "      <td>2001</td>\n",
       "      <td>IR1</td>\n",
       "      <td>920</td>\n",
       "      <td>866</td>\n",
       "      <td>223500</td>\n",
       "    </tr>\n",
       "    <tr>\n",
       "      <th>3</th>\n",
       "      <td>70</td>\n",
       "      <td>RL</td>\n",
       "      <td>60.0</td>\n",
       "      <td>9550</td>\n",
       "      <td>Pave</td>\n",
       "      <td>1915</td>\n",
       "      <td>IR1</td>\n",
       "      <td>961</td>\n",
       "      <td>756</td>\n",
       "      <td>140000</td>\n",
       "    </tr>\n",
       "    <tr>\n",
       "      <th>4</th>\n",
       "      <td>60</td>\n",
       "      <td>RL</td>\n",
       "      <td>84.0</td>\n",
       "      <td>14260</td>\n",
       "      <td>Pave</td>\n",
       "      <td>2000</td>\n",
       "      <td>IR1</td>\n",
       "      <td>1145</td>\n",
       "      <td>1053</td>\n",
       "      <td>250000</td>\n",
       "    </tr>\n",
       "  </tbody>\n",
       "</table>\n",
       "</div>"
      ],
      "text/plain": [
       "   MSSubClass MSZoning  LotFrontage  LotArea Street  YearBuilt LotShape  \\\n",
       "0          60       RL         65.0     8450   Pave       2003      Reg   \n",
       "1          20       RL         80.0     9600   Pave       1976      Reg   \n",
       "2          60       RL         68.0    11250   Pave       2001      IR1   \n",
       "3          70       RL         60.0     9550   Pave       1915      IR1   \n",
       "4          60       RL         84.0    14260   Pave       2000      IR1   \n",
       "\n",
       "   1stFlrSF  2ndFlrSF  SalePrice  \n",
       "0       856       854     208500  \n",
       "1      1262         0     181500  \n",
       "2       920       866     223500  \n",
       "3       961       756     140000  \n",
       "4      1145      1053     250000  "
      ]
     },
     "execution_count": 36,
     "metadata": {},
     "output_type": "execute_result"
    }
   ],
   "source": [
    "data_columns.head()"
   ]
  },
  {
   "cell_type": "code",
   "execution_count": 37,
   "metadata": {},
   "outputs": [
    {
     "data": {
      "text/plain": [
       "Index(['MSSubClass', 'MSZoning', 'LotFrontage', 'LotArea', 'Street',\n",
       "       'YearBuilt', 'LotShape', '1stFlrSF', '2ndFlrSF', 'SalePrice'],\n",
       "      dtype='object')"
      ]
     },
     "execution_count": 37,
     "metadata": {},
     "output_type": "execute_result"
    }
   ],
   "source": [
    "data_columns.columns"
   ]
  },
  {
   "cell_type": "code",
   "execution_count": 38,
   "metadata": {},
   "outputs": [],
   "source": [
    "# separate target features\n",
    "features = data_columns.drop(\"SalePrice\", axis=1)\n",
    "target = data_columns['SalePrice']"
   ]
  },
  {
   "cell_type": "code",
   "execution_count": 39,
   "metadata": {},
   "outputs": [],
   "source": [
    "# Check NA values before model creation\n",
    "categorical_columns =  features.select_dtypes(include=['object', 'category']).columns\n",
    "numerical_columns = features.select_dtypes(include=['int64', 'float64']).columns"
   ]
  },
  {
   "cell_type": "code",
   "execution_count": 40,
   "metadata": {},
   "outputs": [
    {
     "data": {
      "text/plain": [
       "Index(['MSZoning', 'Street', 'LotShape'], dtype='object')"
      ]
     },
     "execution_count": 40,
     "metadata": {},
     "output_type": "execute_result"
    }
   ],
   "source": [
    "categorical_columns"
   ]
  },
  {
   "cell_type": "code",
   "execution_count": 41,
   "metadata": {},
   "outputs": [
    {
     "data": {
      "text/plain": [
       "Index(['MSSubClass', 'LotFrontage', 'LotArea', 'YearBuilt', '1stFlrSF',\n",
       "       '2ndFlrSF'],\n",
       "      dtype='object')"
      ]
     },
     "execution_count": 41,
     "metadata": {},
     "output_type": "execute_result"
    }
   ],
   "source": [
    "numerical_columns"
   ]
  },
  {
   "cell_type": "code",
   "execution_count": 42,
   "metadata": {},
   "outputs": [],
   "source": [
    "from sklearn.preprocessing import StandardScaler, OneHotEncoder\n",
    "from sklearn.compose import ColumnTransformer\n",
    "from sklearn.pipeline import Pipeline\n",
    "from sklearn.impute import SimpleImputer\n",
    "\n",
    "numerical_imputer = Pipeline(steps=[\n",
    "    ('imputer', SimpleImputer(strategy='median')),  \n",
    "    ('scaler', StandardScaler())\n",
    "])\n",
    "\n",
    "categorical_imputer = Pipeline(steps=[\n",
    "    ('imputer', SimpleImputer(strategy='most_frequent')),\n",
    "    ('onehot', OneHotEncoder(handle_unknown='ignore'))\n",
    "])"
   ]
  },
  {
   "cell_type": "code",
   "execution_count": 43,
   "metadata": {},
   "outputs": [],
   "source": [
    "from sklearn.compose import ColumnTransformer\n",
    "\n",
    "data_transformer = ColumnTransformer(\n",
    "    transformers=[\n",
    "        ('numerical', numerical_imputer, numerical_columns), # apply numeric transforms to numerical features\n",
    "        ('categorical', categorical_imputer, categorical_columns) # apply categorical transforms to categorical features\n",
    "    ])"
   ]
  },
  {
   "cell_type": "code",
   "execution_count": 44,
   "metadata": {},
   "outputs": [],
   "source": [
    "from sklearn.model_selection import train_test_split\n",
    "\n",
    "X_train, X_test, y_train, y_test = train_test_split(features, target, test_size=0.2, random_state=0)"
   ]
  },
  {
   "cell_type": "code",
   "execution_count": 45,
   "metadata": {},
   "outputs": [
    {
     "data": {
      "text/plain": [
       "((1168, 9), (292, 9))"
      ]
     },
     "execution_count": 45,
     "metadata": {},
     "output_type": "execute_result"
    }
   ],
   "source": [
    "X_train.shape, X_test.shape"
   ]
  },
  {
   "cell_type": "code",
   "execution_count": 46,
   "metadata": {},
   "outputs": [
    {
     "data": {
      "text/plain": [
       "((1168,), (292,))"
      ]
     },
     "execution_count": 46,
     "metadata": {},
     "output_type": "execute_result"
    }
   ],
   "source": [
    "y_train.shape, y_test.shape"
   ]
  },
  {
   "cell_type": "code",
   "execution_count": 52,
   "metadata": {},
   "outputs": [],
   "source": [
    "max_iter_1 = 1000 # not converged yet with this"
   ]
  },
  {
   "cell_type": "code",
   "execution_count": 57,
   "metadata": {},
   "outputs": [],
   "source": [
    "max_iter_2 = 10000 # not converged yet "
   ]
  },
  {
   "cell_type": "code",
   "execution_count": 58,
   "metadata": {},
   "outputs": [],
   "source": [
    "max_iter_3 = 50000 # with this iteration it give better results and rather than first model, others not give the warning of not converged yet"
   ]
  },
  {
   "cell_type": "code",
   "execution_count": 65,
   "metadata": {},
   "outputs": [],
   "source": [
    "max_iter_4 = 100000 # for model 1 to convergence"
   ]
  },
  {
   "cell_type": "code",
   "execution_count": 59,
   "metadata": {},
   "outputs": [],
   "source": [
    "from sklearn.neural_network import MLPRegressor\n",
    "\n",
    "MLP_1_layer_8_units = MLPRegressor(hidden_layer_sizes=(8,), max_iter=max_iter_3,learning_rate_init=0.001, random_state=42)\n",
    "MLP_1_layer_4_units = MLPRegressor(hidden_layer_sizes=(4,), max_iter=max_iter_3,learning_rate_init=0.001, random_state=42)\n",
    "MLP_2_layers_4_units =MLPRegressor(hidden_layer_sizes=(4, 4), max_iter=max_iter_3, learning_rate_init=0.001,random_state=42)\n",
    "MLP_2_layers_8_4_units = MLPRegressor(hidden_layer_sizes=(8, 4), max_iter=max_iter_3, learning_rate_init=0.001,random_state=42)"
   ]
  },
  {
   "cell_type": "code",
   "execution_count": 60,
   "metadata": {},
   "outputs": [],
   "source": [
    "from sklearn.metrics import r2_score, mean_squared_error, make_scorer\n",
    "from sklearn.model_selection import cross_val_score\n",
    "from math import sqrt\n",
    "\n",
    "def train(model):\n",
    "    pipeline = Pipeline(steps=[('preprocessor', data_transformer),\n",
    "                               ('model', model)])\n",
    "    \n",
    "    pipeline.fit(X_train, y_train)\n",
    "    \n",
    "    scores = cross_val_score(pipeline, X_train, y_train, cv=5, scoring='r2')\n",
    "    rmse_scores = cross_val_score(pipeline, X_train, y_train, cv=5, \n",
    "                                  scoring=make_scorer(mean_squared_error))\n",
    "    average_r2 = np.mean(scores)\n",
    "    average_rmse = sqrt(np.mean(rmse_scores))\n",
    "\n",
    "    print(f\"Average R2 score: {average_r2}\")\n",
    "    print(f\"Average RMSE: {average_rmse}\")"
   ]
  },
  {
   "cell_type": "code",
   "execution_count": 61,
   "metadata": {},
   "outputs": [
    {
     "name": "stdout",
     "output_type": "stream",
     "text": [
      "MLP with 1 hidden layer (8 units):\n"
     ]
    },
    {
     "name": "stderr",
     "output_type": "stream",
     "text": [
      "/Users/beyzakaya/miniforge3/envs/finance-ml/lib/python3.9/site-packages/sklearn/neural_network/_multilayer_perceptron.py:690: ConvergenceWarning: Stochastic Optimizer: Maximum iterations (50000) reached and the optimization hasn't converged yet.\n",
      "  warnings.warn(\n",
      "/Users/beyzakaya/miniforge3/envs/finance-ml/lib/python3.9/site-packages/sklearn/neural_network/_multilayer_perceptron.py:690: ConvergenceWarning: Stochastic Optimizer: Maximum iterations (50000) reached and the optimization hasn't converged yet.\n",
      "  warnings.warn(\n",
      "/Users/beyzakaya/miniforge3/envs/finance-ml/lib/python3.9/site-packages/sklearn/neural_network/_multilayer_perceptron.py:690: ConvergenceWarning: Stochastic Optimizer: Maximum iterations (50000) reached and the optimization hasn't converged yet.\n",
      "  warnings.warn(\n",
      "/Users/beyzakaya/miniforge3/envs/finance-ml/lib/python3.9/site-packages/sklearn/neural_network/_multilayer_perceptron.py:690: ConvergenceWarning: Stochastic Optimizer: Maximum iterations (50000) reached and the optimization hasn't converged yet.\n",
      "  warnings.warn(\n",
      "/Users/beyzakaya/miniforge3/envs/finance-ml/lib/python3.9/site-packages/sklearn/neural_network/_multilayer_perceptron.py:690: ConvergenceWarning: Stochastic Optimizer: Maximum iterations (50000) reached and the optimization hasn't converged yet.\n",
      "  warnings.warn(\n",
      "/Users/beyzakaya/miniforge3/envs/finance-ml/lib/python3.9/site-packages/sklearn/neural_network/_multilayer_perceptron.py:690: ConvergenceWarning: Stochastic Optimizer: Maximum iterations (50000) reached and the optimization hasn't converged yet.\n",
      "  warnings.warn(\n",
      "/Users/beyzakaya/miniforge3/envs/finance-ml/lib/python3.9/site-packages/sklearn/neural_network/_multilayer_perceptron.py:690: ConvergenceWarning: Stochastic Optimizer: Maximum iterations (50000) reached and the optimization hasn't converged yet.\n",
      "  warnings.warn(\n",
      "/Users/beyzakaya/miniforge3/envs/finance-ml/lib/python3.9/site-packages/sklearn/neural_network/_multilayer_perceptron.py:690: ConvergenceWarning: Stochastic Optimizer: Maximum iterations (50000) reached and the optimization hasn't converged yet.\n",
      "  warnings.warn(\n"
     ]
    },
    {
     "name": "stdout",
     "output_type": "stream",
     "text": [
      "Average R2 score: 0.722010489572471\n",
      "Average RMSE: 41313.570463880795\n"
     ]
    }
   ],
   "source": [
    "print(\"MLP with 1 hidden layer (8 units):\")\n",
    "train(MLP_1_layer_8_units)"
   ]
  },
  {
   "cell_type": "code",
   "execution_count": 72,
   "metadata": {},
   "outputs": [],
   "source": [
    "MLP_1_layer_8_units_max_iter_change = MLPRegressor(hidden_layer_sizes=(8,), max_iter=max_iter_4,learning_rate_init=0.001, random_state=42)"
   ]
  },
  {
   "cell_type": "code",
   "execution_count": 73,
   "metadata": {},
   "outputs": [
    {
     "name": "stdout",
     "output_type": "stream",
     "text": [
      "MLP with 1 hidden layer (8 units) max iteration is 100000 for convergence:\n"
     ]
    },
    {
     "name": "stderr",
     "output_type": "stream",
     "text": [
      "/Users/beyzakaya/miniforge3/envs/finance-ml/lib/python3.9/site-packages/sklearn/neural_network/_multilayer_perceptron.py:690: ConvergenceWarning: Stochastic Optimizer: Maximum iterations (100000) reached and the optimization hasn't converged yet.\n",
      "  warnings.warn(\n",
      "/Users/beyzakaya/miniforge3/envs/finance-ml/lib/python3.9/site-packages/sklearn/neural_network/_multilayer_perceptron.py:690: ConvergenceWarning: Stochastic Optimizer: Maximum iterations (100000) reached and the optimization hasn't converged yet.\n",
      "  warnings.warn(\n",
      "/Users/beyzakaya/miniforge3/envs/finance-ml/lib/python3.9/site-packages/sklearn/neural_network/_multilayer_perceptron.py:690: ConvergenceWarning: Stochastic Optimizer: Maximum iterations (100000) reached and the optimization hasn't converged yet.\n",
      "  warnings.warn(\n",
      "/Users/beyzakaya/miniforge3/envs/finance-ml/lib/python3.9/site-packages/sklearn/neural_network/_multilayer_perceptron.py:690: ConvergenceWarning: Stochastic Optimizer: Maximum iterations (100000) reached and the optimization hasn't converged yet.\n",
      "  warnings.warn(\n"
     ]
    },
    {
     "name": "stdout",
     "output_type": "stream",
     "text": [
      "Average R2 score: 0.7185198015483685\n",
      "Average RMSE: 41594.11161736424\n"
     ]
    }
   ],
   "source": [
    "print(\"MLP with 1 hidden layer (8 units) max iteration is 100000 for convergence:\")\n",
    "train(MLP_1_layer_8_units_max_iter_change)"
   ]
  },
  {
   "cell_type": "code",
   "execution_count": 69,
   "metadata": {},
   "outputs": [
    {
     "name": "stdout",
     "output_type": "stream",
     "text": [
      "MLP with 1 hidden layer (4 units):\n",
      "Average R2 score: 0.7235474406423685\n",
      "Average RMSE: 41188.51254509863\n"
     ]
    }
   ],
   "source": [
    "print(\"MLP with 1 hidden layer (4 units):\")\n",
    "train(MLP_1_layer_4_units)"
   ]
  },
  {
   "cell_type": "code",
   "execution_count": 70,
   "metadata": {},
   "outputs": [
    {
     "name": "stdout",
     "output_type": "stream",
     "text": [
      "MLP with 2 hidden layers (4 units for two layers):\n",
      "Average R2 score: 0.7240093177938633\n",
      "Average RMSE: 41150.33608736419\n"
     ]
    }
   ],
   "source": [
    "print(\"MLP with 2 hidden layers (4 units for two layers):\")\n",
    "train(MLP_2_layers_4_units)"
   ]
  },
  {
   "cell_type": "code",
   "execution_count": 71,
   "metadata": {},
   "outputs": [
    {
     "name": "stdout",
     "output_type": "stream",
     "text": [
      "MLP with 2 hidden layers (8 units for first layer, 4 units second layer):\n",
      "Average R2 score: 0.723658357746825\n",
      "Average RMSE: 41176.75926672136\n"
     ]
    }
   ],
   "source": [
    "print(\"MLP with 2 hidden layers (8 units for first layer, 4 units second layer):\")\n",
    "train(MLP_2_layers_8_4_units)"
   ]
  },
  {
   "cell_type": "markdown",
   "metadata": {},
   "source": [
    "##### Max iteration as 50000 is better even with not converged warning for the model MLP_1_layer_8_units."
   ]
  }
 ],
 "metadata": {
  "anaconda-cloud": {},
  "kernelspec": {
   "display_name": "Python 3 (ipykernel)",
   "language": "python",
   "name": "python3"
  },
  "language_info": {
   "codemirror_mode": {
    "name": "ipython",
    "version": 3
   },
   "file_extension": ".py",
   "mimetype": "text/x-python",
   "name": "python",
   "nbconvert_exporter": "python",
   "pygments_lexer": "ipython3",
   "version": "3.9.20"
  }
 },
 "nbformat": 4,
 "nbformat_minor": 4
}
