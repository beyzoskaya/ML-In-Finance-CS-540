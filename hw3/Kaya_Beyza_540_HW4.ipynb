{
 "cells": [
  {
   "cell_type": "markdown",
   "metadata": {},
   "source": [
    "# CS 440/540 Machine Learning in Finance: Homework 4"
   ]
  },
  {
   "cell_type": "markdown",
   "metadata": {},
   "source": [
    "Download data files from LMS. Code/Explain your solution over this `IPython` notebook at required cells, and complete locally.\n",
    "\n",
    "To submit your assignment, in LMS, upload your solution to LMS as a single notebook with following file name format:\n",
    "\n",
    "`lastName_firstName_CourseNumber_HW4.ipynb`\n",
    "\n",
    "where `CourseNumber` is the course in which you're enrolled (CS 440 or CS 540).\n",
    "\n",
    "Problems on homework assignments are equally weighted.\n",
    "\n",
    "Any type of plagiarism will not be tolerated. Your submitted codes will be compared with other submissions and also the codes available on internet and violations will have a penalty of -100 points. (In case of copying from\n",
    "another student both parties will get -100)"
   ]
  },
  {
   "cell_type": "markdown",
   "metadata": {},
   "source": [
    "Import all libraries here"
   ]
  },
  {
   "cell_type": "code",
   "execution_count": 6,
   "metadata": {},
   "outputs": [],
   "source": [
    "#Import libraries before starting\n",
    "import yfinance as yf\n",
    "import pandas as pd\n",
    "import numpy as np\n",
    "from ta import momentum, trend, volatility\n",
    "from sklearn.model_selection import train_test_split\n",
    "from sklearn.preprocessing import MinMaxScaler\n",
    "import tensorflow as tf\n",
    "from tensorflow.keras.models import Sequential\n",
    "from tensorflow.keras.layers import Conv2D, Flatten, Dense"
   ]
  },
  {
   "cell_type": "markdown",
   "metadata": {},
   "source": [
    "## Problem 1: Combining Technical Analysis Indicators with 2D CNN on Bitcoin Direction Prediction\n",
    "\n",
    "In this problem, we will focus on adding technical analysis indicators to original series, which will help us convert it into 2D Image. We will use the following technical indicators from TA-Lib library in Python: MACD, RSI, CMO, MOM, Bollinger Bands, SMA. In general, technical analysis indicators are financial indicators which give trades a guidance about the market. We will use AAPL close prices by downloading via yfinance library. Our train period is 2021-2022 and test period will be 2022-2023.\n",
    "\n",
    "We will use historical 6 days closing price, build up 6x6 image by calculating technical indicators, and predict the direction for the next day (whether the price will be up or down). We will use a single convolutional layer followed by Fully Connected Layer where kernel size=(2,2) can be set. "
   ]
  },
  {
   "cell_type": "code",
   "execution_count": 7,
   "metadata": {},
   "outputs": [
    {
     "name": "stderr",
     "output_type": "stream",
     "text": [
      "[*********************100%***********************]  1 of 1 completed\n"
     ]
    }
   ],
   "source": [
    "# Upload AAPL data\n",
    "data = yf.download('AAPL', start='2020-12-01', end='2023-01-01')\n",
    "data = data['Close']  # Use closing prices\n",
    "data = pd.DataFrame(data)\n",
    "data.columns = ['Close']"
   ]
  },
  {
   "cell_type": "code",
   "execution_count": 8,
   "metadata": {},
   "outputs": [],
   "source": [
    "train_data = data.loc['2021-01-01':'2022-01-01']\n",
    "test_data = data.loc['2022-01-02':'2023-01-01']"
   ]
  },
  {
   "cell_type": "code",
   "execution_count": 11,
   "metadata": {},
   "outputs": [
    {
     "ename": "ImportError",
     "evalue": "cannot import name 'NaN' from 'numpy' (/Users/beyzakaya/miniforge3/envs/finance-ml/lib/python3.9/site-packages/numpy/__init__.py)",
     "output_type": "error",
     "traceback": [
      "\u001b[0;31m---------------------------------------------------------------------------\u001b[0m",
      "\u001b[0;31mImportError\u001b[0m                               Traceback (most recent call last)",
      "\u001b[1;32m/Users/beyzakaya/Desktop/bk/Akademik/CS 540/hw4/Kaya_Beyza_540_HW4.ipynb Cell 8\u001b[0m line \u001b[0;36m1\n\u001b[0;32m----> <a href='vscode-notebook-cell:/Users/beyzakaya/Desktop/bk/Akademik/CS%20540/hw4/Kaya_Beyza_540_HW4.ipynb#X14sZmlsZQ%3D%3D?line=0'>1</a>\u001b[0m \u001b[39mimport\u001b[39;00m \u001b[39mpandas_ta\u001b[39;00m \u001b[39mas\u001b[39;00m \u001b[39mta\u001b[39;00m\n\u001b[1;32m      <a href='vscode-notebook-cell:/Users/beyzakaya/Desktop/bk/Akademik/CS%20540/hw4/Kaya_Beyza_540_HW4.ipynb#X14sZmlsZQ%3D%3D?line=2'>3</a>\u001b[0m \u001b[39mdef\u001b[39;00m \u001b[39madd_indicators\u001b[39m(df):\n\u001b[1;32m      <a href='vscode-notebook-cell:/Users/beyzakaya/Desktop/bk/Akademik/CS%20540/hw4/Kaya_Beyza_540_HW4.ipynb#X14sZmlsZQ%3D%3D?line=3'>4</a>\u001b[0m     df[\u001b[39m'\u001b[39m\u001b[39mMACD\u001b[39m\u001b[39m'\u001b[39m] \u001b[39m=\u001b[39m df\u001b[39m.\u001b[39mta\u001b[39m.\u001b[39mmacd(close\u001b[39m=\u001b[39m\u001b[39m'\u001b[39m\u001b[39mClose\u001b[39m\u001b[39m'\u001b[39m)\u001b[39m.\u001b[39miloc[:, \u001b[39m0\u001b[39m]  \u001b[39m# MACD Line\u001b[39;00m\n",
      "File \u001b[0;32m~/miniforge3/envs/finance-ml/lib/python3.9/site-packages/pandas_ta/__init__.py:116\u001b[0m\n\u001b[1;32m     97\u001b[0m EXCHANGE_TZ \u001b[39m=\u001b[39m {\n\u001b[1;32m     98\u001b[0m     \u001b[39m\"\u001b[39m\u001b[39mNZSX\u001b[39m\u001b[39m\"\u001b[39m: \u001b[39m12\u001b[39m, \u001b[39m\"\u001b[39m\u001b[39mASX\u001b[39m\u001b[39m\"\u001b[39m: \u001b[39m11\u001b[39m,\n\u001b[1;32m     99\u001b[0m     \u001b[39m\"\u001b[39m\u001b[39mTSE\u001b[39m\u001b[39m\"\u001b[39m: \u001b[39m9\u001b[39m, \u001b[39m\"\u001b[39m\u001b[39mHKE\u001b[39m\u001b[39m\"\u001b[39m: \u001b[39m8\u001b[39m, \u001b[39m\"\u001b[39m\u001b[39mSSE\u001b[39m\u001b[39m\"\u001b[39m: \u001b[39m8\u001b[39m, \u001b[39m\"\u001b[39m\u001b[39mSGX\u001b[39m\u001b[39m\"\u001b[39m: \u001b[39m8\u001b[39m,\n\u001b[0;32m   (...)\u001b[0m\n\u001b[1;32m    102\u001b[0m     \u001b[39m\"\u001b[39m\u001b[39mBMF\u001b[39m\u001b[39m\"\u001b[39m: \u001b[39m-\u001b[39m\u001b[39m2\u001b[39m, \u001b[39m\"\u001b[39m\u001b[39mNYSE\u001b[39m\u001b[39m\"\u001b[39m: \u001b[39m-\u001b[39m\u001b[39m4\u001b[39m, \u001b[39m\"\u001b[39m\u001b[39mTSX\u001b[39m\u001b[39m\"\u001b[39m: \u001b[39m-\u001b[39m\u001b[39m4\u001b[39m\n\u001b[1;32m    103\u001b[0m }\n\u001b[1;32m    105\u001b[0m RATE \u001b[39m=\u001b[39m {\n\u001b[1;32m    106\u001b[0m     \u001b[39m\"\u001b[39m\u001b[39mDAYS_PER_MONTH\u001b[39m\u001b[39m\"\u001b[39m: \u001b[39m21\u001b[39m,\n\u001b[1;32m    107\u001b[0m     \u001b[39m\"\u001b[39m\u001b[39mMINUTES_PER_HOUR\u001b[39m\u001b[39m\"\u001b[39m: \u001b[39m60\u001b[39m,\n\u001b[0;32m   (...)\u001b[0m\n\u001b[1;32m    113\u001b[0m     \u001b[39m\"\u001b[39m\u001b[39mYEARLY\u001b[39m\u001b[39m\"\u001b[39m: \u001b[39m1\u001b[39m,\n\u001b[1;32m    114\u001b[0m }\n\u001b[0;32m--> 116\u001b[0m \u001b[39mfrom\u001b[39;00m \u001b[39mpandas_ta\u001b[39;00m\u001b[39m.\u001b[39;00m\u001b[39mcore\u001b[39;00m \u001b[39mimport\u001b[39;00m \u001b[39m*\u001b[39m\n",
      "File \u001b[0;32m~/miniforge3/envs/finance-ml/lib/python3.9/site-packages/pandas_ta/core.py:18\u001b[0m\n\u001b[1;32m     16\u001b[0m \u001b[39mfrom\u001b[39;00m \u001b[39mpandas_ta\u001b[39;00m\u001b[39m.\u001b[39;00m\u001b[39mcandles\u001b[39;00m \u001b[39mimport\u001b[39;00m \u001b[39m*\u001b[39m\n\u001b[1;32m     17\u001b[0m \u001b[39mfrom\u001b[39;00m \u001b[39mpandas_ta\u001b[39;00m\u001b[39m.\u001b[39;00m\u001b[39mcycles\u001b[39;00m \u001b[39mimport\u001b[39;00m \u001b[39m*\u001b[39m\n\u001b[0;32m---> 18\u001b[0m \u001b[39mfrom\u001b[39;00m \u001b[39mpandas_ta\u001b[39;00m\u001b[39m.\u001b[39;00m\u001b[39mmomentum\u001b[39;00m \u001b[39mimport\u001b[39;00m \u001b[39m*\u001b[39m\n\u001b[1;32m     19\u001b[0m \u001b[39mfrom\u001b[39;00m \u001b[39mpandas_ta\u001b[39;00m\u001b[39m.\u001b[39;00m\u001b[39moverlap\u001b[39;00m \u001b[39mimport\u001b[39;00m \u001b[39m*\u001b[39m\n\u001b[1;32m     20\u001b[0m \u001b[39mfrom\u001b[39;00m \u001b[39mpandas_ta\u001b[39;00m\u001b[39m.\u001b[39;00m\u001b[39mperformance\u001b[39;00m \u001b[39mimport\u001b[39;00m \u001b[39m*\u001b[39m\n",
      "File \u001b[0;32m~/miniforge3/envs/finance-ml/lib/python3.9/site-packages/pandas_ta/momentum/__init__.py:34\u001b[0m\n\u001b[1;32m     32\u001b[0m \u001b[39mfrom\u001b[39;00m \u001b[39m.\u001b[39;00m\u001b[39msmi\u001b[39;00m \u001b[39mimport\u001b[39;00m smi\n\u001b[1;32m     33\u001b[0m \u001b[39mfrom\u001b[39;00m \u001b[39m.\u001b[39;00m\u001b[39msqueeze\u001b[39;00m \u001b[39mimport\u001b[39;00m squeeze\n\u001b[0;32m---> 34\u001b[0m \u001b[39mfrom\u001b[39;00m \u001b[39m.\u001b[39;00m\u001b[39msqueeze_pro\u001b[39;00m \u001b[39mimport\u001b[39;00m squeeze_pro\n\u001b[1;32m     35\u001b[0m \u001b[39mfrom\u001b[39;00m \u001b[39m.\u001b[39;00m\u001b[39mstc\u001b[39;00m \u001b[39mimport\u001b[39;00m stc\n\u001b[1;32m     36\u001b[0m \u001b[39mfrom\u001b[39;00m \u001b[39m.\u001b[39;00m\u001b[39mstoch\u001b[39;00m \u001b[39mimport\u001b[39;00m stoch\n",
      "File \u001b[0;32m~/miniforge3/envs/finance-ml/lib/python3.9/site-packages/pandas_ta/momentum/squeeze_pro.py:2\u001b[0m\n\u001b[1;32m      1\u001b[0m \u001b[39m# -*- coding: utf-8 -*-\u001b[39;00m\n\u001b[0;32m----> 2\u001b[0m \u001b[39mfrom\u001b[39;00m \u001b[39mnumpy\u001b[39;00m \u001b[39mimport\u001b[39;00m NaN \u001b[39mas\u001b[39;00m npNaN\n\u001b[1;32m      3\u001b[0m \u001b[39mfrom\u001b[39;00m \u001b[39mpandas\u001b[39;00m \u001b[39mimport\u001b[39;00m DataFrame\n\u001b[1;32m      4\u001b[0m \u001b[39mfrom\u001b[39;00m \u001b[39mpandas_ta\u001b[39;00m\u001b[39m.\u001b[39;00m\u001b[39mmomentum\u001b[39;00m \u001b[39mimport\u001b[39;00m mom\n",
      "\u001b[0;31mImportError\u001b[0m: cannot import name 'NaN' from 'numpy' (/Users/beyzakaya/miniforge3/envs/finance-ml/lib/python3.9/site-packages/numpy/__init__.py)"
     ]
    }
   ],
   "source": [
    "import pandas_ta as ta\n",
    "\n",
    "def add_indicators(df):\n",
    "    df['MACD'] = df.ta.macd(close='Close').iloc[:, 0]  # MACD Line\n",
    "    df['RSI'] = df.ta.rsi(close='Close')\n",
    "    df['CMO'] = df.ta.cmo(close='Close')\n",
    "    df['MOM'] = df.ta.mom(close='Close')\n",
    "    df['Upper_BB'], df['Middle_BB'], df['Lower_BB'] = df.ta.bbands(close='Close').iloc[:, 0], df.ta.bbands(close='Close').iloc[:, 1], df.ta.bbands(close='Close').iloc[:, 2]\n",
    "    df['SMA'] = df.ta.sma(close='Close')\n",
    "    return df"
   ]
  },
  {
   "cell_type": "code",
   "execution_count": 10,
   "metadata": {},
   "outputs": [
    {
     "name": "stderr",
     "output_type": "stream",
     "text": [
      "/var/folders/kv/563b5k8n4xg24_t9kd2d72c40000gn/T/ipykernel_10983/1175928658.py:2: SettingWithCopyWarning: \n",
      "A value is trying to be set on a copy of a slice from a DataFrame.\n",
      "Try using .loc[row_indexer,col_indexer] = value instead\n",
      "\n",
      "See the caveats in the documentation: https://pandas.pydata.org/pandas-docs/stable/user_guide/indexing.html#returning-a-view-versus-a-copy\n",
      "  df['MACD'] = trend.macd(df['Close'])\n",
      "/var/folders/kv/563b5k8n4xg24_t9kd2d72c40000gn/T/ipykernel_10983/1175928658.py:3: SettingWithCopyWarning: \n",
      "A value is trying to be set on a copy of a slice from a DataFrame.\n",
      "Try using .loc[row_indexer,col_indexer] = value instead\n",
      "\n",
      "See the caveats in the documentation: https://pandas.pydata.org/pandas-docs/stable/user_guide/indexing.html#returning-a-view-versus-a-copy\n",
      "  df['RSI'] = momentum.rsi(df['Close'])\n"
     ]
    },
    {
     "ename": "AttributeError",
     "evalue": "module 'ta.momentum' has no attribute 'cmo'",
     "output_type": "error",
     "traceback": [
      "\u001b[0;31m---------------------------------------------------------------------------\u001b[0m",
      "\u001b[0;31mAttributeError\u001b[0m                            Traceback (most recent call last)",
      "\u001b[1;32m/Users/beyzakaya/Desktop/bk/Akademik/CS 540/hw4/Kaya_Beyza_540_HW4.ipynb Cell 9\u001b[0m line \u001b[0;36m1\n\u001b[0;32m----> <a href='vscode-notebook-cell:/Users/beyzakaya/Desktop/bk/Akademik/CS%20540/hw4/Kaya_Beyza_540_HW4.ipynb#X15sZmlsZQ%3D%3D?line=0'>1</a>\u001b[0m train_data \u001b[39m=\u001b[39m add_indicators(train_data)\n\u001b[1;32m      <a href='vscode-notebook-cell:/Users/beyzakaya/Desktop/bk/Akademik/CS%20540/hw4/Kaya_Beyza_540_HW4.ipynb#X15sZmlsZQ%3D%3D?line=1'>2</a>\u001b[0m test_data \u001b[39m=\u001b[39m add_indicators(test_data)\n",
      "\u001b[1;32m/Users/beyzakaya/Desktop/bk/Akademik/CS 540/hw4/Kaya_Beyza_540_HW4.ipynb Cell 9\u001b[0m line \u001b[0;36m4\n\u001b[1;32m      <a href='vscode-notebook-cell:/Users/beyzakaya/Desktop/bk/Akademik/CS%20540/hw4/Kaya_Beyza_540_HW4.ipynb#X15sZmlsZQ%3D%3D?line=1'>2</a>\u001b[0m df[\u001b[39m'\u001b[39m\u001b[39mMACD\u001b[39m\u001b[39m'\u001b[39m] \u001b[39m=\u001b[39m trend\u001b[39m.\u001b[39mmacd(df[\u001b[39m'\u001b[39m\u001b[39mClose\u001b[39m\u001b[39m'\u001b[39m])\n\u001b[1;32m      <a href='vscode-notebook-cell:/Users/beyzakaya/Desktop/bk/Akademik/CS%20540/hw4/Kaya_Beyza_540_HW4.ipynb#X15sZmlsZQ%3D%3D?line=2'>3</a>\u001b[0m df[\u001b[39m'\u001b[39m\u001b[39mRSI\u001b[39m\u001b[39m'\u001b[39m] \u001b[39m=\u001b[39m momentum\u001b[39m.\u001b[39mrsi(df[\u001b[39m'\u001b[39m\u001b[39mClose\u001b[39m\u001b[39m'\u001b[39m])\n\u001b[0;32m----> <a href='vscode-notebook-cell:/Users/beyzakaya/Desktop/bk/Akademik/CS%20540/hw4/Kaya_Beyza_540_HW4.ipynb#X15sZmlsZQ%3D%3D?line=3'>4</a>\u001b[0m df[\u001b[39m'\u001b[39m\u001b[39mCMO\u001b[39m\u001b[39m'\u001b[39m] \u001b[39m=\u001b[39m momentum\u001b[39m.\u001b[39;49mcmo(df[\u001b[39m'\u001b[39m\u001b[39mClose\u001b[39m\u001b[39m'\u001b[39m])\n\u001b[1;32m      <a href='vscode-notebook-cell:/Users/beyzakaya/Desktop/bk/Akademik/CS%20540/hw4/Kaya_Beyza_540_HW4.ipynb#X15sZmlsZQ%3D%3D?line=4'>5</a>\u001b[0m df[\u001b[39m'\u001b[39m\u001b[39mMOM\u001b[39m\u001b[39m'\u001b[39m] \u001b[39m=\u001b[39m momentum\u001b[39m.\u001b[39mao(df[\u001b[39m'\u001b[39m\u001b[39mClose\u001b[39m\u001b[39m'\u001b[39m], window1\u001b[39m=\u001b[39m\u001b[39m5\u001b[39m, window2\u001b[39m=\u001b[39m\u001b[39m34\u001b[39m)\n\u001b[1;32m      <a href='vscode-notebook-cell:/Users/beyzakaya/Desktop/bk/Akademik/CS%20540/hw4/Kaya_Beyza_540_HW4.ipynb#X15sZmlsZQ%3D%3D?line=5'>6</a>\u001b[0m df[\u001b[39m'\u001b[39m\u001b[39mUpper_BB\u001b[39m\u001b[39m'\u001b[39m], df[\u001b[39m'\u001b[39m\u001b[39mMiddle_BB\u001b[39m\u001b[39m'\u001b[39m], df[\u001b[39m'\u001b[39m\u001b[39mLower_BB\u001b[39m\u001b[39m'\u001b[39m] \u001b[39m=\u001b[39m volatility\u001b[39m.\u001b[39mbollinger_hband_indicator(df[\u001b[39m'\u001b[39m\u001b[39mClose\u001b[39m\u001b[39m'\u001b[39m]), volatility\u001b[39m.\u001b[39mbollinger_mavg(df[\u001b[39m'\u001b[39m\u001b[39mClose\u001b[39m\u001b[39m'\u001b[39m]), volatility\u001b[39m.\u001b[39mbollinger_lband_indicator(df[\u001b[39m'\u001b[39m\u001b[39mClose\u001b[39m\u001b[39m'\u001b[39m])\n",
      "\u001b[0;31mAttributeError\u001b[0m: module 'ta.momentum' has no attribute 'cmo'"
     ]
    }
   ],
   "source": [
    "train_data = add_indicators(train_data)\n",
    "test_data = add_indicators(test_data)"
   ]
  },
  {
   "cell_type": "markdown",
   "metadata": {},
   "source": [
    "## Problem 2: Multivariate LSTM for Predicting EPS (Earnings per Share) over Company Fundamentals\n",
    "\n",
    "In this problem, we will focus on predicting Earnings Per Share (EPS) by jointly modeling historical fundamentals where fundamentals for multiple companies in \"fundamentals.csv\" file for each year. Number of latent dimension of LSTM can be [5, 10, 30] and the best one can be determined by hyperparameter search. On the other hand, learning rate and number of epochs should be carefully tuned. Our evaluation metric will be MAPE score"
   ]
  },
  {
   "cell_type": "code",
   "execution_count": 3,
   "metadata": {},
   "outputs": [],
   "source": [
    "# Solution 2"
   ]
  },
  {
   "cell_type": "markdown",
   "metadata": {},
   "source": [
    "## Problem 3: CNN-LSTM for Predicting Stock Price Prediction\n",
    "\n",
    "In this problem, we will be using one type of combined architecture, CNN-LSTM, to predict household power consumption from historical power consumption. The data is provided in \"household_power_consumption\" where we will be interested in only \"Global_active_power\" column. In this dataset, measurements of electric power consumption in one household with a one-minute sampling rate over a period of almost 4 years. \n",
    "\n",
    "Different than single-time step prediction, we are now interested in predicting 60 time points (1 hour) from 600 time points (10 hours). Note that you need to carefully tune the learning rate and number of epochs. "
   ]
  },
  {
   "cell_type": "code",
   "execution_count": 4,
   "metadata": {},
   "outputs": [],
   "source": [
    "#Solution 3"
   ]
  }
 ],
 "metadata": {
  "anaconda-cloud": {},
  "kernelspec": {
   "display_name": "Python 3 (ipykernel)",
   "language": "python",
   "name": "python3"
  },
  "language_info": {
   "codemirror_mode": {
    "name": "ipython",
    "version": 3
   },
   "file_extension": ".py",
   "mimetype": "text/x-python",
   "name": "python",
   "nbconvert_exporter": "python",
   "pygments_lexer": "ipython3",
   "version": "3.9.20"
  }
 },
 "nbformat": 4,
 "nbformat_minor": 4
}
